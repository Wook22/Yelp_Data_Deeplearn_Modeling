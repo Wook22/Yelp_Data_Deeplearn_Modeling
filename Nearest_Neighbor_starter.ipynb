{
 "cells": [
  {
   "cell_type": "code",
   "execution_count": 2,
   "metadata": {},
   "outputs": [],
   "source": [
    "# Import modules\n",
    "from warnings import simplefilter\n",
    "simplefilter(action='ignore', category=FutureWarning)\n",
    "import pandas as pd\n",
    "from pathlib import Path\n",
    "from sklearn import tree\n",
    "from sklearn.model_selection import train_test_split\n",
    "from sklearn.metrics import confusion_matrix, accuracy_score, classification_report\n",
    "from sklearn.preprocessing import StandardScaler\n",
    "from sklearn.ensemble import RandomForestClassifier"
   ]
  },
  {
   "cell_type": "code",
   "execution_count": 3,
   "metadata": {},
   "outputs": [],
   "source": [
    "file_path = Path(\"Data/cleaned_data.csv\")\n",
    "df= pd.read_csv(file_path)"
   ]
  },
  {
   "cell_type": "code",
   "execution_count": 4,
   "metadata": {},
   "outputs": [],
   "source": [
    "y = df['rating']\n",
    "x = df.drop(columns=['rating', 'image_url', 'url', 'id', 'name', 'transactions', 'city'])\n",
    "#X = df.drop(columns='rating')"
   ]
  },
  {
   "cell_type": "code",
   "execution_count": 5,
   "metadata": {},
   "outputs": [],
   "source": [
    "from sklearn import preprocessing\n",
    "from sklearn import utils\n",
    "\n",
    "lab = preprocessing.LabelEncoder()\n",
    "y_transformed = lab.fit_transform(y)"
   ]
  },
  {
   "cell_type": "code",
   "execution_count": 6,
   "metadata": {},
   "outputs": [],
   "source": [
    "X= x.fillna(0)"
   ]
  },
  {
   "cell_type": "code",
   "execution_count": 7,
   "metadata": {},
   "outputs": [
    {
     "data": {
      "text/html": [
       "<div>\n",
       "<style scoped>\n",
       "    .dataframe tbody tr th:only-of-type {\n",
       "        vertical-align: middle;\n",
       "    }\n",
       "\n",
       "    .dataframe tbody tr th {\n",
       "        vertical-align: top;\n",
       "    }\n",
       "\n",
       "    .dataframe thead th {\n",
       "        text-align: right;\n",
       "    }\n",
       "</style>\n",
       "<table border=\"1\" class=\"dataframe\">\n",
       "  <thead>\n",
       "    <tr style=\"text-align: right;\">\n",
       "      <th></th>\n",
       "      <th>is_closed</th>\n",
       "      <th>review_count</th>\n",
       "      <th>price</th>\n",
       "      <th>cuisines</th>\n",
       "      <th>latitude</th>\n",
       "      <th>longitude</th>\n",
       "      <th>state</th>\n",
       "    </tr>\n",
       "  </thead>\n",
       "  <tbody>\n",
       "    <tr>\n",
       "      <th>0</th>\n",
       "      <td>False</td>\n",
       "      <td>6100</td>\n",
       "      <td>2</td>\n",
       "      <td>Italian</td>\n",
       "      <td>40.742101</td>\n",
       "      <td>-73.989922</td>\n",
       "      <td>NY</td>\n",
       "    </tr>\n",
       "    <tr>\n",
       "      <th>1</th>\n",
       "      <td>False</td>\n",
       "      <td>5026</td>\n",
       "      <td>1</td>\n",
       "      <td>Italian</td>\n",
       "      <td>40.723088</td>\n",
       "      <td>-73.994530</td>\n",
       "      <td>NY</td>\n",
       "    </tr>\n",
       "    <tr>\n",
       "      <th>2</th>\n",
       "      <td>False</td>\n",
       "      <td>4821</td>\n",
       "      <td>2</td>\n",
       "      <td>Italian</td>\n",
       "      <td>40.733798</td>\n",
       "      <td>-73.999774</td>\n",
       "      <td>NY</td>\n",
       "    </tr>\n",
       "    <tr>\n",
       "      <th>3</th>\n",
       "      <td>False</td>\n",
       "      <td>4646</td>\n",
       "      <td>2</td>\n",
       "      <td>Italian</td>\n",
       "      <td>40.594715</td>\n",
       "      <td>-73.981316</td>\n",
       "      <td>NY</td>\n",
       "    </tr>\n",
       "    <tr>\n",
       "      <th>4</th>\n",
       "      <td>False</td>\n",
       "      <td>4640</td>\n",
       "      <td>2</td>\n",
       "      <td>Italian</td>\n",
       "      <td>40.757498</td>\n",
       "      <td>-73.986653</td>\n",
       "      <td>NY</td>\n",
       "    </tr>\n",
       "    <tr>\n",
       "      <th>5</th>\n",
       "      <td>False</td>\n",
       "      <td>3809</td>\n",
       "      <td>2</td>\n",
       "      <td>Mexican</td>\n",
       "      <td>40.742255</td>\n",
       "      <td>-74.005958</td>\n",
       "      <td>NY</td>\n",
       "    </tr>\n",
       "    <tr>\n",
       "      <th>6</th>\n",
       "      <td>False</td>\n",
       "      <td>3316</td>\n",
       "      <td>2</td>\n",
       "      <td>Mexican</td>\n",
       "      <td>40.722930</td>\n",
       "      <td>-73.994190</td>\n",
       "      <td>NY</td>\n",
       "    </tr>\n",
       "    <tr>\n",
       "      <th>7</th>\n",
       "      <td>False</td>\n",
       "      <td>3314</td>\n",
       "      <td>2</td>\n",
       "      <td>Italian</td>\n",
       "      <td>40.704930</td>\n",
       "      <td>-73.933990</td>\n",
       "      <td>NY</td>\n",
       "    </tr>\n",
       "    <tr>\n",
       "      <th>8</th>\n",
       "      <td>False</td>\n",
       "      <td>3145</td>\n",
       "      <td>2</td>\n",
       "      <td>Italian</td>\n",
       "      <td>40.722766</td>\n",
       "      <td>-73.996233</td>\n",
       "      <td>NY</td>\n",
       "    </tr>\n",
       "    <tr>\n",
       "      <th>9</th>\n",
       "      <td>False</td>\n",
       "      <td>3138</td>\n",
       "      <td>3</td>\n",
       "      <td>Italian</td>\n",
       "      <td>40.760830</td>\n",
       "      <td>-73.989810</td>\n",
       "      <td>NY</td>\n",
       "    </tr>\n",
       "    <tr>\n",
       "      <th>10</th>\n",
       "      <td>False</td>\n",
       "      <td>2904</td>\n",
       "      <td>1</td>\n",
       "      <td>Italian</td>\n",
       "      <td>40.732063</td>\n",
       "      <td>-74.003655</td>\n",
       "      <td>NY</td>\n",
       "    </tr>\n",
       "    <tr>\n",
       "      <th>11</th>\n",
       "      <td>False</td>\n",
       "      <td>2844</td>\n",
       "      <td>2</td>\n",
       "      <td>Mexican</td>\n",
       "      <td>40.561161</td>\n",
       "      <td>-74.301079</td>\n",
       "      <td>NJ</td>\n",
       "    </tr>\n",
       "    <tr>\n",
       "      <th>12</th>\n",
       "      <td>False</td>\n",
       "      <td>2819</td>\n",
       "      <td>2</td>\n",
       "      <td>Mexican</td>\n",
       "      <td>40.757507</td>\n",
       "      <td>-73.987772</td>\n",
       "      <td>NY</td>\n",
       "    </tr>\n",
       "    <tr>\n",
       "      <th>13</th>\n",
       "      <td>False</td>\n",
       "      <td>2768</td>\n",
       "      <td>3</td>\n",
       "      <td>Italian</td>\n",
       "      <td>40.772193</td>\n",
       "      <td>-73.955615</td>\n",
       "      <td>NY</td>\n",
       "    </tr>\n",
       "    <tr>\n",
       "      <th>14</th>\n",
       "      <td>False</td>\n",
       "      <td>2667</td>\n",
       "      <td>2</td>\n",
       "      <td>Italian</td>\n",
       "      <td>40.759876</td>\n",
       "      <td>-73.986767</td>\n",
       "      <td>NY</td>\n",
       "    </tr>\n",
       "    <tr>\n",
       "      <th>15</th>\n",
       "      <td>False</td>\n",
       "      <td>2603</td>\n",
       "      <td>4</td>\n",
       "      <td>Italian</td>\n",
       "      <td>40.732283</td>\n",
       "      <td>-73.999284</td>\n",
       "      <td>NY</td>\n",
       "    </tr>\n",
       "    <tr>\n",
       "      <th>16</th>\n",
       "      <td>False</td>\n",
       "      <td>2591</td>\n",
       "      <td>3</td>\n",
       "      <td>Italian</td>\n",
       "      <td>40.756410</td>\n",
       "      <td>-73.985470</td>\n",
       "      <td>NY</td>\n",
       "    </tr>\n",
       "    <tr>\n",
       "      <th>17</th>\n",
       "      <td>False</td>\n",
       "      <td>2488</td>\n",
       "      <td>2</td>\n",
       "      <td>Italian</td>\n",
       "      <td>40.758230</td>\n",
       "      <td>-73.988360</td>\n",
       "      <td>NY</td>\n",
       "    </tr>\n",
       "    <tr>\n",
       "      <th>18</th>\n",
       "      <td>False</td>\n",
       "      <td>2391</td>\n",
       "      <td>2</td>\n",
       "      <td>Italian</td>\n",
       "      <td>40.729431</td>\n",
       "      <td>-73.984541</td>\n",
       "      <td>NY</td>\n",
       "    </tr>\n",
       "    <tr>\n",
       "      <th>19</th>\n",
       "      <td>False</td>\n",
       "      <td>2357</td>\n",
       "      <td>3</td>\n",
       "      <td>Italian</td>\n",
       "      <td>40.733720</td>\n",
       "      <td>-74.005130</td>\n",
       "      <td>NY</td>\n",
       "    </tr>\n",
       "  </tbody>\n",
       "</table>\n",
       "</div>"
      ],
      "text/plain": [
       "    is_closed  review_count  price cuisines   latitude  longitude state\n",
       "0       False          6100      2  Italian  40.742101 -73.989922    NY\n",
       "1       False          5026      1  Italian  40.723088 -73.994530    NY\n",
       "2       False          4821      2  Italian  40.733798 -73.999774    NY\n",
       "3       False          4646      2  Italian  40.594715 -73.981316    NY\n",
       "4       False          4640      2  Italian  40.757498 -73.986653    NY\n",
       "5       False          3809      2  Mexican  40.742255 -74.005958    NY\n",
       "6       False          3316      2  Mexican  40.722930 -73.994190    NY\n",
       "7       False          3314      2  Italian  40.704930 -73.933990    NY\n",
       "8       False          3145      2  Italian  40.722766 -73.996233    NY\n",
       "9       False          3138      3  Italian  40.760830 -73.989810    NY\n",
       "10      False          2904      1  Italian  40.732063 -74.003655    NY\n",
       "11      False          2844      2  Mexican  40.561161 -74.301079    NJ\n",
       "12      False          2819      2  Mexican  40.757507 -73.987772    NY\n",
       "13      False          2768      3  Italian  40.772193 -73.955615    NY\n",
       "14      False          2667      2  Italian  40.759876 -73.986767    NY\n",
       "15      False          2603      4  Italian  40.732283 -73.999284    NY\n",
       "16      False          2591      3  Italian  40.756410 -73.985470    NY\n",
       "17      False          2488      2  Italian  40.758230 -73.988360    NY\n",
       "18      False          2391      2  Italian  40.729431 -73.984541    NY\n",
       "19      False          2357      3  Italian  40.733720 -74.005130    NY"
      ]
     },
     "execution_count": 7,
     "metadata": {},
     "output_type": "execute_result"
    }
   ],
   "source": [
    "X.head(20)"
   ]
  },
  {
   "cell_type": "code",
   "execution_count": 8,
   "metadata": {},
   "outputs": [
    {
     "data": {
      "text/plain": [
       "0    4.0\n",
       "1    4.5\n",
       "2    4.5\n",
       "3    4.0\n",
       "4    4.0\n",
       "5    4.5\n",
       "6    4.0\n",
       "7    4.0\n",
       "8    4.5\n",
       "9    3.5\n",
       "Name: rating, dtype: float64"
      ]
     },
     "execution_count": 8,
     "metadata": {},
     "output_type": "execute_result"
    }
   ],
   "source": [
    "y[:10]"
   ]
  },
  {
   "cell_type": "code",
   "execution_count": 9,
   "metadata": {},
   "outputs": [],
   "source": [
    "X =pd.get_dummies(X).astype(int)"
   ]
  },
  {
   "cell_type": "code",
   "execution_count": 10,
   "metadata": {},
   "outputs": [
    {
     "data": {
      "text/plain": [
       "is_closed           int32\n",
       "review_count        int32\n",
       "price               int32\n",
       "latitude            int32\n",
       "longitude           int32\n",
       "cuisines_Italian    int32\n",
       "cuisines_Mexican    int32\n",
       "state_AR            int32\n",
       "state_AZ            int32\n",
       "state_BCN           int32\n",
       "state_CA            int32\n",
       "state_CHE           int32\n",
       "state_CHH           int32\n",
       "state_CO            int32\n",
       "state_DC            int32\n",
       "state_DE            int32\n",
       "state_FL            int32\n",
       "state_GA            int32\n",
       "state_IA            int32\n",
       "state_IL            int32\n",
       "state_IN            int32\n",
       "state_KS            int32\n",
       "state_KY            int32\n",
       "state_MA            int32\n",
       "state_MD            int32\n",
       "state_MI            int32\n",
       "state_MO            int32\n",
       "state_MS            int32\n",
       "state_NC            int32\n",
       "state_NE            int32\n",
       "state_NJ            int32\n",
       "state_NM            int32\n",
       "state_NV            int32\n",
       "state_NY            int32\n",
       "state_OAX           int32\n",
       "state_OH            int32\n",
       "state_OK            int32\n",
       "state_ON            int32\n",
       "state_OR            int32\n",
       "state_PA            int32\n",
       "state_PE            int32\n",
       "state_SC            int32\n",
       "state_TN            int32\n",
       "state_TX            int32\n",
       "state_VA            int32\n",
       "state_WA            int32\n",
       "state_WI            int32\n",
       "dtype: object"
      ]
     },
     "execution_count": 10,
     "metadata": {},
     "output_type": "execute_result"
    }
   ],
   "source": [
    "X.dtypes"
   ]
  },
  {
   "cell_type": "code",
   "execution_count": 11,
   "metadata": {},
   "outputs": [],
   "source": [
    "X_train, X_test, y_train, y_test = train_test_split(X, y_transformed, random_state=1)"
   ]
  },
  {
   "cell_type": "code",
   "execution_count": 12,
   "metadata": {},
   "outputs": [],
   "source": [
    "scaler = StandardScaler()\n",
    "\n",
    "X_scaler = scaler.fit(X_train)\n",
    "\n",
    "X_train_scaled = X_scaler.transform(X_train)\n",
    "\n",
    "X_test_scaled = X_scaler.transform(X_test)"
   ]
  },
  {
   "cell_type": "code",
   "execution_count": 37,
   "metadata": {},
   "outputs": [
    {
     "data": {
      "text/html": [
       "<style>#sk-container-id-9 {color: black;background-color: white;}#sk-container-id-9 pre{padding: 0;}#sk-container-id-9 div.sk-toggleable {background-color: white;}#sk-container-id-9 label.sk-toggleable__label {cursor: pointer;display: block;width: 100%;margin-bottom: 0;padding: 0.3em;box-sizing: border-box;text-align: center;}#sk-container-id-9 label.sk-toggleable__label-arrow:before {content: \"▸\";float: left;margin-right: 0.25em;color: #696969;}#sk-container-id-9 label.sk-toggleable__label-arrow:hover:before {color: black;}#sk-container-id-9 div.sk-estimator:hover label.sk-toggleable__label-arrow:before {color: black;}#sk-container-id-9 div.sk-toggleable__content {max-height: 0;max-width: 0;overflow: hidden;text-align: left;background-color: #f0f8ff;}#sk-container-id-9 div.sk-toggleable__content pre {margin: 0.2em;color: black;border-radius: 0.25em;background-color: #f0f8ff;}#sk-container-id-9 input.sk-toggleable__control:checked~div.sk-toggleable__content {max-height: 200px;max-width: 100%;overflow: auto;}#sk-container-id-9 input.sk-toggleable__control:checked~label.sk-toggleable__label-arrow:before {content: \"▾\";}#sk-container-id-9 div.sk-estimator input.sk-toggleable__control:checked~label.sk-toggleable__label {background-color: #d4ebff;}#sk-container-id-9 div.sk-label input.sk-toggleable__control:checked~label.sk-toggleable__label {background-color: #d4ebff;}#sk-container-id-9 input.sk-hidden--visually {border: 0;clip: rect(1px 1px 1px 1px);clip: rect(1px, 1px, 1px, 1px);height: 1px;margin: -1px;overflow: hidden;padding: 0;position: absolute;width: 1px;}#sk-container-id-9 div.sk-estimator {font-family: monospace;background-color: #f0f8ff;border: 1px dotted black;border-radius: 0.25em;box-sizing: border-box;margin-bottom: 0.5em;}#sk-container-id-9 div.sk-estimator:hover {background-color: #d4ebff;}#sk-container-id-9 div.sk-parallel-item::after {content: \"\";width: 100%;border-bottom: 1px solid gray;flex-grow: 1;}#sk-container-id-9 div.sk-label:hover label.sk-toggleable__label {background-color: #d4ebff;}#sk-container-id-9 div.sk-serial::before {content: \"\";position: absolute;border-left: 1px solid gray;box-sizing: border-box;top: 0;bottom: 0;left: 50%;z-index: 0;}#sk-container-id-9 div.sk-serial {display: flex;flex-direction: column;align-items: center;background-color: white;padding-right: 0.2em;padding-left: 0.2em;position: relative;}#sk-container-id-9 div.sk-item {position: relative;z-index: 1;}#sk-container-id-9 div.sk-parallel {display: flex;align-items: stretch;justify-content: center;background-color: white;position: relative;}#sk-container-id-9 div.sk-item::before, #sk-container-id-9 div.sk-parallel-item::before {content: \"\";position: absolute;border-left: 1px solid gray;box-sizing: border-box;top: 0;bottom: 0;left: 50%;z-index: -1;}#sk-container-id-9 div.sk-parallel-item {display: flex;flex-direction: column;z-index: 1;position: relative;background-color: white;}#sk-container-id-9 div.sk-parallel-item:first-child::after {align-self: flex-end;width: 50%;}#sk-container-id-9 div.sk-parallel-item:last-child::after {align-self: flex-start;width: 50%;}#sk-container-id-9 div.sk-parallel-item:only-child::after {width: 0;}#sk-container-id-9 div.sk-dashed-wrapped {border: 1px dashed gray;margin: 0 0.4em 0.5em 0.4em;box-sizing: border-box;padding-bottom: 0.4em;background-color: white;}#sk-container-id-9 div.sk-label label {font-family: monospace;font-weight: bold;display: inline-block;line-height: 1.2em;}#sk-container-id-9 div.sk-label-container {text-align: center;}#sk-container-id-9 div.sk-container {/* jupyter's `normalize.less` sets `[hidden] { display: none; }` but bootstrap.min.css set `[hidden] { display: none !important; }` so we also need the `!important` here to be able to override the default hidden behavior on the sphinx rendered scikit-learn.org. See: https://github.com/scikit-learn/scikit-learn/issues/21755 */display: inline-block !important;position: relative;}#sk-container-id-9 div.sk-text-repr-fallback {display: none;}</style><div id=\"sk-container-id-9\" class=\"sk-top-container\"><div class=\"sk-text-repr-fallback\"><pre>KNeighborsClassifier(n_neighbors=50)</pre><b>In a Jupyter environment, please rerun this cell to show the HTML representation or trust the notebook. <br />On GitHub, the HTML representation is unable to render, please try loading this page with nbviewer.org.</b></div><div class=\"sk-container\" hidden><div class=\"sk-item\"><div class=\"sk-estimator sk-toggleable\"><input class=\"sk-toggleable__control sk-hidden--visually\" id=\"sk-estimator-id-9\" type=\"checkbox\" checked><label for=\"sk-estimator-id-9\" class=\"sk-toggleable__label sk-toggleable__label-arrow\">KNeighborsClassifier</label><div class=\"sk-toggleable__content\"><pre>KNeighborsClassifier(n_neighbors=50)</pre></div></div></div></div></div>"
      ],
      "text/plain": [
       "KNeighborsClassifier(n_neighbors=50)"
      ]
     },
     "execution_count": 37,
     "metadata": {},
     "output_type": "execute_result"
    }
   ],
   "source": [
    "## K Nearest Neighbor method\n",
    "from sklearn.neighbors import KNeighborsClassifier\n",
    "\n",
    "\n",
    "knn = KNeighborsClassifier(n_neighbors=50)\n",
    "\n",
    "knn.fit(X_train_scaled, y_train)"
   ]
  },
  {
   "cell_type": "code",
   "execution_count": 38,
   "metadata": {},
   "outputs": [],
   "source": [
    "y_pred = knn.predict(X_test_scaled)"
   ]
  },
  {
   "cell_type": "code",
   "execution_count": 39,
   "metadata": {},
   "outputs": [
    {
     "name": "stdout",
     "output_type": "stream",
     "text": [
      "              precision    recall  f1-score   support\n",
      "\n",
      "           0       0.00      0.00      0.00        21\n",
      "           1       0.27      0.07      0.11        89\n",
      "           2       0.20      0.19      0.19       214\n",
      "           3       0.15      0.08      0.11       322\n",
      "           4       0.25      0.03      0.06       496\n",
      "           5       0.30      0.38      0.34      1151\n",
      "           6       0.40      0.60      0.48      1614\n",
      "           7       0.29      0.15      0.20       759\n",
      "           8       0.29      0.15      0.20       120\n",
      "\n",
      "    accuracy                           0.34      4786\n",
      "   macro avg       0.24      0.18      0.19      4786\n",
      "weighted avg       0.31      0.34      0.30      4786\n",
      "\n"
     ]
    },
    {
     "name": "stderr",
     "output_type": "stream",
     "text": [
      "c:\\Users\\calei\\anaconda3\\lib\\site-packages\\sklearn\\metrics\\_classification.py:1344: UndefinedMetricWarning: Precision and F-score are ill-defined and being set to 0.0 in labels with no predicted samples. Use `zero_division` parameter to control this behavior.\n",
      "  _warn_prf(average, modifier, msg_start, len(result))\n",
      "c:\\Users\\calei\\anaconda3\\lib\\site-packages\\sklearn\\metrics\\_classification.py:1344: UndefinedMetricWarning: Precision and F-score are ill-defined and being set to 0.0 in labels with no predicted samples. Use `zero_division` parameter to control this behavior.\n",
      "  _warn_prf(average, modifier, msg_start, len(result))\n",
      "c:\\Users\\calei\\anaconda3\\lib\\site-packages\\sklearn\\metrics\\_classification.py:1344: UndefinedMetricWarning: Precision and F-score are ill-defined and being set to 0.0 in labels with no predicted samples. Use `zero_division` parameter to control this behavior.\n",
      "  _warn_prf(average, modifier, msg_start, len(result))\n"
     ]
    }
   ],
   "source": [
    "print(classification_report(y_test, y_pred))"
   ]
  }
 ],
 "metadata": {
  "kernelspec": {
   "display_name": "base",
   "language": "python",
   "name": "python3"
  },
  "language_info": {
   "codemirror_mode": {
    "name": "ipython",
    "version": 3
   },
   "file_extension": ".py",
   "mimetype": "text/x-python",
   "name": "python",
   "nbconvert_exporter": "python",
   "pygments_lexer": "ipython3",
   "version": "3.10.13"
  },
  "orig_nbformat": 4
 },
 "nbformat": 4,
 "nbformat_minor": 2
}
