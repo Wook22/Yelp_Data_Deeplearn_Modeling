{
 "cells": [
  {
   "cell_type": "code",
   "execution_count": 30,
   "metadata": {},
   "outputs": [],
   "source": [
    "from warnings import simplefilter\n",
    "simplefilter(action='ignore', category=FutureWarning)\n",
    "import pandas as pd\n",
    "from pathlib import Path\n",
    "from sklearn import tree\n",
    "from sklearn.model_selection import train_test_split\n",
    "from sklearn.metrics import confusion_matrix, accuracy_score, classification_report\n",
    "from sklearn.preprocessing import StandardScaler\n",
    "from sklearn.ensemble import RandomForestClassifier"
   ]
  },
  {
   "cell_type": "code",
   "execution_count": 31,
   "metadata": {},
   "outputs": [],
   "source": [
    "file_path = Path(\"Data/cleaned_data.csv\")\n",
    "df= pd.read_csv(file_path)"
   ]
  },
  {
   "cell_type": "code",
   "execution_count": 33,
   "metadata": {},
   "outputs": [],
   "source": [
    "y = df['rating']\n",
    "x = df.drop(columns=['rating', 'image_url', 'url', 'id', 'name', 'transactions'])"
   ]
  },
  {
   "cell_type": "code",
   "execution_count": 34,
   "metadata": {},
   "outputs": [
    {
     "data": {
      "text/plain": [
       "0    4.0\n",
       "1    4.5\n",
       "2    4.5\n",
       "3    4.0\n",
       "4    4.0\n",
       "Name: rating, dtype: float64"
      ]
     },
     "execution_count": 34,
     "metadata": {},
     "output_type": "execute_result"
    }
   ],
   "source": [
    "y.head()"
   ]
  },
  {
   "cell_type": "code",
   "execution_count": 35,
   "metadata": {},
   "outputs": [],
   "source": [
    "\n",
    "X= x.fillna(0)"
   ]
  },
  {
   "cell_type": "code",
   "execution_count": 36,
   "metadata": {},
   "outputs": [
    {
     "data": {
      "text/html": [
       "<div>\n",
       "<style scoped>\n",
       "    .dataframe tbody tr th:only-of-type {\n",
       "        vertical-align: middle;\n",
       "    }\n",
       "\n",
       "    .dataframe tbody tr th {\n",
       "        vertical-align: top;\n",
       "    }\n",
       "\n",
       "    .dataframe thead th {\n",
       "        text-align: right;\n",
       "    }\n",
       "</style>\n",
       "<table border=\"1\" class=\"dataframe\">\n",
       "  <thead>\n",
       "    <tr style=\"text-align: right;\">\n",
       "      <th></th>\n",
       "      <th>is_closed</th>\n",
       "      <th>review_count</th>\n",
       "      <th>price</th>\n",
       "      <th>group_city</th>\n",
       "      <th>cuisines</th>\n",
       "      <th>latitude</th>\n",
       "      <th>longitude</th>\n",
       "      <th>state</th>\n",
       "    </tr>\n",
       "  </thead>\n",
       "  <tbody>\n",
       "    <tr>\n",
       "      <th>0</th>\n",
       "      <td>False</td>\n",
       "      <td>6101</td>\n",
       "      <td>2</td>\n",
       "      <td>New York City</td>\n",
       "      <td>Italian</td>\n",
       "      <td>40.742101</td>\n",
       "      <td>-73.989922</td>\n",
       "      <td>NY</td>\n",
       "    </tr>\n",
       "    <tr>\n",
       "      <th>1</th>\n",
       "      <td>False</td>\n",
       "      <td>5028</td>\n",
       "      <td>1</td>\n",
       "      <td>New York City</td>\n",
       "      <td>Italian</td>\n",
       "      <td>40.723088</td>\n",
       "      <td>-73.994530</td>\n",
       "      <td>NY</td>\n",
       "    </tr>\n",
       "    <tr>\n",
       "      <th>2</th>\n",
       "      <td>False</td>\n",
       "      <td>4828</td>\n",
       "      <td>2</td>\n",
       "      <td>New York City</td>\n",
       "      <td>Italian</td>\n",
       "      <td>40.733798</td>\n",
       "      <td>-73.999774</td>\n",
       "      <td>NY</td>\n",
       "    </tr>\n",
       "    <tr>\n",
       "      <th>3</th>\n",
       "      <td>False</td>\n",
       "      <td>4648</td>\n",
       "      <td>2</td>\n",
       "      <td>New York City</td>\n",
       "      <td>Italian</td>\n",
       "      <td>40.594715</td>\n",
       "      <td>-73.981316</td>\n",
       "      <td>NY</td>\n",
       "    </tr>\n",
       "    <tr>\n",
       "      <th>4</th>\n",
       "      <td>False</td>\n",
       "      <td>4640</td>\n",
       "      <td>2</td>\n",
       "      <td>New York City</td>\n",
       "      <td>Italian</td>\n",
       "      <td>40.757498</td>\n",
       "      <td>-73.986653</td>\n",
       "      <td>NY</td>\n",
       "    </tr>\n",
       "    <tr>\n",
       "      <th>5</th>\n",
       "      <td>False</td>\n",
       "      <td>3812</td>\n",
       "      <td>2</td>\n",
       "      <td>New York City</td>\n",
       "      <td>Mexican</td>\n",
       "      <td>40.742255</td>\n",
       "      <td>-74.005958</td>\n",
       "      <td>NY</td>\n",
       "    </tr>\n",
       "    <tr>\n",
       "      <th>6</th>\n",
       "      <td>False</td>\n",
       "      <td>3317</td>\n",
       "      <td>2</td>\n",
       "      <td>New York City</td>\n",
       "      <td>Mexican</td>\n",
       "      <td>40.722930</td>\n",
       "      <td>-73.994190</td>\n",
       "      <td>NY</td>\n",
       "    </tr>\n",
       "    <tr>\n",
       "      <th>7</th>\n",
       "      <td>False</td>\n",
       "      <td>3314</td>\n",
       "      <td>2</td>\n",
       "      <td>New York City</td>\n",
       "      <td>Italian</td>\n",
       "      <td>40.704930</td>\n",
       "      <td>-73.933990</td>\n",
       "      <td>NY</td>\n",
       "    </tr>\n",
       "    <tr>\n",
       "      <th>8</th>\n",
       "      <td>False</td>\n",
       "      <td>3150</td>\n",
       "      <td>2</td>\n",
       "      <td>New York City</td>\n",
       "      <td>Italian</td>\n",
       "      <td>40.722766</td>\n",
       "      <td>-73.996233</td>\n",
       "      <td>NY</td>\n",
       "    </tr>\n",
       "    <tr>\n",
       "      <th>9</th>\n",
       "      <td>False</td>\n",
       "      <td>3138</td>\n",
       "      <td>3</td>\n",
       "      <td>New York City</td>\n",
       "      <td>Italian</td>\n",
       "      <td>40.760830</td>\n",
       "      <td>-73.989810</td>\n",
       "      <td>NY</td>\n",
       "    </tr>\n",
       "    <tr>\n",
       "      <th>10</th>\n",
       "      <td>False</td>\n",
       "      <td>2909</td>\n",
       "      <td>1</td>\n",
       "      <td>New York City</td>\n",
       "      <td>Italian</td>\n",
       "      <td>40.732063</td>\n",
       "      <td>-74.003655</td>\n",
       "      <td>NY</td>\n",
       "    </tr>\n",
       "    <tr>\n",
       "      <th>11</th>\n",
       "      <td>False</td>\n",
       "      <td>2844</td>\n",
       "      <td>2</td>\n",
       "      <td>New York City</td>\n",
       "      <td>Mexican</td>\n",
       "      <td>40.561161</td>\n",
       "      <td>-74.301079</td>\n",
       "      <td>NJ</td>\n",
       "    </tr>\n",
       "    <tr>\n",
       "      <th>12</th>\n",
       "      <td>False</td>\n",
       "      <td>2823</td>\n",
       "      <td>2</td>\n",
       "      <td>New York City</td>\n",
       "      <td>Mexican</td>\n",
       "      <td>40.757507</td>\n",
       "      <td>-73.987772</td>\n",
       "      <td>NY</td>\n",
       "    </tr>\n",
       "    <tr>\n",
       "      <th>13</th>\n",
       "      <td>False</td>\n",
       "      <td>2768</td>\n",
       "      <td>3</td>\n",
       "      <td>New York City</td>\n",
       "      <td>Italian</td>\n",
       "      <td>40.772193</td>\n",
       "      <td>-73.955615</td>\n",
       "      <td>NY</td>\n",
       "    </tr>\n",
       "    <tr>\n",
       "      <th>14</th>\n",
       "      <td>False</td>\n",
       "      <td>2670</td>\n",
       "      <td>2</td>\n",
       "      <td>New York City</td>\n",
       "      <td>Italian</td>\n",
       "      <td>40.759876</td>\n",
       "      <td>-73.986767</td>\n",
       "      <td>NY</td>\n",
       "    </tr>\n",
       "    <tr>\n",
       "      <th>15</th>\n",
       "      <td>False</td>\n",
       "      <td>2603</td>\n",
       "      <td>4</td>\n",
       "      <td>New York City</td>\n",
       "      <td>Italian</td>\n",
       "      <td>40.732283</td>\n",
       "      <td>-73.999284</td>\n",
       "      <td>NY</td>\n",
       "    </tr>\n",
       "    <tr>\n",
       "      <th>16</th>\n",
       "      <td>False</td>\n",
       "      <td>2593</td>\n",
       "      <td>3</td>\n",
       "      <td>New York City</td>\n",
       "      <td>Italian</td>\n",
       "      <td>40.756410</td>\n",
       "      <td>-73.985470</td>\n",
       "      <td>NY</td>\n",
       "    </tr>\n",
       "    <tr>\n",
       "      <th>17</th>\n",
       "      <td>False</td>\n",
       "      <td>2490</td>\n",
       "      <td>2</td>\n",
       "      <td>New York City</td>\n",
       "      <td>Italian</td>\n",
       "      <td>40.758230</td>\n",
       "      <td>-73.988360</td>\n",
       "      <td>NY</td>\n",
       "    </tr>\n",
       "    <tr>\n",
       "      <th>18</th>\n",
       "      <td>False</td>\n",
       "      <td>2392</td>\n",
       "      <td>2</td>\n",
       "      <td>New York City</td>\n",
       "      <td>Italian</td>\n",
       "      <td>40.729431</td>\n",
       "      <td>-73.984541</td>\n",
       "      <td>NY</td>\n",
       "    </tr>\n",
       "    <tr>\n",
       "      <th>19</th>\n",
       "      <td>False</td>\n",
       "      <td>2360</td>\n",
       "      <td>3</td>\n",
       "      <td>New York City</td>\n",
       "      <td>Italian</td>\n",
       "      <td>40.733720</td>\n",
       "      <td>-74.005130</td>\n",
       "      <td>NY</td>\n",
       "    </tr>\n",
       "  </tbody>\n",
       "</table>\n",
       "</div>"
      ],
      "text/plain": [
       "    is_closed  review_count  price     group_city cuisines   latitude  \\\n",
       "0       False          6101      2  New York City  Italian  40.742101   \n",
       "1       False          5028      1  New York City  Italian  40.723088   \n",
       "2       False          4828      2  New York City  Italian  40.733798   \n",
       "3       False          4648      2  New York City  Italian  40.594715   \n",
       "4       False          4640      2  New York City  Italian  40.757498   \n",
       "5       False          3812      2  New York City  Mexican  40.742255   \n",
       "6       False          3317      2  New York City  Mexican  40.722930   \n",
       "7       False          3314      2  New York City  Italian  40.704930   \n",
       "8       False          3150      2  New York City  Italian  40.722766   \n",
       "9       False          3138      3  New York City  Italian  40.760830   \n",
       "10      False          2909      1  New York City  Italian  40.732063   \n",
       "11      False          2844      2  New York City  Mexican  40.561161   \n",
       "12      False          2823      2  New York City  Mexican  40.757507   \n",
       "13      False          2768      3  New York City  Italian  40.772193   \n",
       "14      False          2670      2  New York City  Italian  40.759876   \n",
       "15      False          2603      4  New York City  Italian  40.732283   \n",
       "16      False          2593      3  New York City  Italian  40.756410   \n",
       "17      False          2490      2  New York City  Italian  40.758230   \n",
       "18      False          2392      2  New York City  Italian  40.729431   \n",
       "19      False          2360      3  New York City  Italian  40.733720   \n",
       "\n",
       "    longitude state  \n",
       "0  -73.989922    NY  \n",
       "1  -73.994530    NY  \n",
       "2  -73.999774    NY  \n",
       "3  -73.981316    NY  \n",
       "4  -73.986653    NY  \n",
       "5  -74.005958    NY  \n",
       "6  -73.994190    NY  \n",
       "7  -73.933990    NY  \n",
       "8  -73.996233    NY  \n",
       "9  -73.989810    NY  \n",
       "10 -74.003655    NY  \n",
       "11 -74.301079    NJ  \n",
       "12 -73.987772    NY  \n",
       "13 -73.955615    NY  \n",
       "14 -73.986767    NY  \n",
       "15 -73.999284    NY  \n",
       "16 -73.985470    NY  \n",
       "17 -73.988360    NY  \n",
       "18 -73.984541    NY  \n",
       "19 -74.005130    NY  "
      ]
     },
     "execution_count": 36,
     "metadata": {},
     "output_type": "execute_result"
    }
   ],
   "source": [
    "X.head(20)"
   ]
  },
  {
   "cell_type": "code",
   "execution_count": 37,
   "metadata": {},
   "outputs": [],
   "source": [
    "from sklearn import preprocessing\n",
    "from sklearn import utils\n",
    "\n",
    "lab = preprocessing.LabelEncoder()\n",
    "y_transformed = lab.fit_transform(y)"
   ]
  },
  {
   "cell_type": "code",
   "execution_count": 38,
   "metadata": {},
   "outputs": [
    {
     "data": {
      "text/plain": [
       "array([6, 7, 7, 6, 6, 7, 6, 6, 7, 5], dtype=int64)"
      ]
     },
     "execution_count": 38,
     "metadata": {},
     "output_type": "execute_result"
    }
   ],
   "source": [
    "y_transformed[:10]"
   ]
  },
  {
   "cell_type": "code",
   "execution_count": 49,
   "metadata": {},
   "outputs": [],
   "source": [
    "X =pd.get_dummies(X).astype(int)"
   ]
  },
  {
   "cell_type": "code",
   "execution_count": 50,
   "metadata": {},
   "outputs": [
    {
     "data": {
      "text/plain": [
       "is_closed       int32\n",
       "review_count    int32\n",
       "price           int32\n",
       "latitude        int32\n",
       "longitude       int32\n",
       "                ...  \n",
       "state_TN        int32\n",
       "state_TX        int32\n",
       "state_VA        int32\n",
       "state_WA        int32\n",
       "state_WI        int32\n",
       "Length: 87, dtype: object"
      ]
     },
     "execution_count": 50,
     "metadata": {},
     "output_type": "execute_result"
    }
   ],
   "source": [
    "X.dtypes"
   ]
  },
  {
   "cell_type": "code",
   "execution_count": 51,
   "metadata": {},
   "outputs": [],
   "source": [
    "X_train, X_test, y_train, y_test = train_test_split(X, y_transformed, random_state=1)"
   ]
  },
  {
   "cell_type": "code",
   "execution_count": 53,
   "metadata": {},
   "outputs": [],
   "source": [
    "scaler = StandardScaler()\n",
    "\n",
    "X_scaler = scaler.fit(X_train)\n",
    "\n",
    "X_train_scaled = X_scaler.transform(X_train)\n",
    "\n",
    "X_test_scaled = X_scaler.transform(X_test)"
   ]
  },
  {
   "cell_type": "code",
   "execution_count": 54,
   "metadata": {},
   "outputs": [],
   "source": [
    "model = RandomForestClassifier(n_estimators= 500, random_state=78)"
   ]
  },
  {
   "cell_type": "code",
   "execution_count": 55,
   "metadata": {},
   "outputs": [],
   "source": [
    "model= model.fit(X_train_scaled, y_train)"
   ]
  },
  {
   "cell_type": "code",
   "execution_count": 56,
   "metadata": {},
   "outputs": [],
   "source": [
    "predictions = model.predict(X_test_scaled)"
   ]
  },
  {
   "cell_type": "code",
   "execution_count": 57,
   "metadata": {},
   "outputs": [
    {
     "name": "stdout",
     "output_type": "stream",
     "text": [
      "[4 6 4 ... 1 4 3]\n"
     ]
    }
   ],
   "source": [
    "print(predictions)"
   ]
  },
  {
   "cell_type": "code",
   "execution_count": 58,
   "metadata": {},
   "outputs": [
    {
     "name": "stdout",
     "output_type": "stream",
     "text": [
      "              precision    recall  f1-score   support\n",
      "\n",
      "           0       0.11      0.06      0.08        16\n",
      "           1       0.13      0.10      0.11        92\n",
      "           2       0.14      0.12      0.13       219\n",
      "           3       0.10      0.12      0.11       301\n",
      "           4       0.12      0.10      0.11       502\n",
      "           5       0.27      0.30      0.28      1138\n",
      "           6       0.39      0.39      0.39      1620\n",
      "           7       0.22      0.21      0.21       781\n",
      "           8       0.20      0.22      0.21       118\n",
      "\n",
      "    accuracy                           0.27      4787\n",
      "   macro avg       0.19      0.18      0.18      4787\n",
      "weighted avg       0.27      0.27      0.27      4787\n",
      "\n"
     ]
    }
   ],
   "source": [
    "print(classification_report(y_test, predictions))"
   ]
  },
  {
   "cell_type": "code",
   "execution_count": 48,
   "metadata": {},
   "outputs": [
    {
     "ename": "ValueError",
     "evalue": "Found input variables with inconsistent numbers of samples: [14358, 4787]",
     "output_type": "error",
     "traceback": [
      "\u001b[1;31m---------------------------------------------------------------------------\u001b[0m",
      "\u001b[1;31mValueError\u001b[0m                                Traceback (most recent call last)",
      "\u001b[1;32mc:\\Users\\calei\\OneDrive\\Desktop\\BC\\Projects\\Capstone_Project\\Random_Forest_starter.ipynb Cell 18\u001b[0m line \u001b[0;36m1\n\u001b[1;32m----> <a href='vscode-notebook-cell:/c%3A/Users/calei/OneDrive/Desktop/BC/Projects/Capstone_Project/Random_Forest_starter.ipynb#X23sZmlsZQ%3D%3D?line=0'>1</a>\u001b[0m cm \u001b[39m=\u001b[39m confusion_matrix(y_train, predictions)\n\u001b[0;32m      <a href='vscode-notebook-cell:/c%3A/Users/calei/OneDrive/Desktop/BC/Projects/Capstone_Project/Random_Forest_starter.ipynb#X23sZmlsZQ%3D%3D?line=1'>2</a>\u001b[0m cm_df \u001b[39m=\u001b[39m pd\u001b[39m.\u001b[39mDataFrame(\n\u001b[0;32m      <a href='vscode-notebook-cell:/c%3A/Users/calei/OneDrive/Desktop/BC/Projects/Capstone_Project/Random_Forest_starter.ipynb#X23sZmlsZQ%3D%3D?line=2'>3</a>\u001b[0m     cm, index\u001b[39m=\u001b[39m[\u001b[39m\"\u001b[39m\u001b[39m\"\u001b[39m], columns\u001b[39m=\u001b[39m[\u001b[39m'\u001b[39m\u001b[39m'\u001b[39m]\n\u001b[0;32m      <a href='vscode-notebook-cell:/c%3A/Users/calei/OneDrive/Desktop/BC/Projects/Capstone_Project/Random_Forest_starter.ipynb#X23sZmlsZQ%3D%3D?line=3'>4</a>\u001b[0m )\n\u001b[0;32m      <a href='vscode-notebook-cell:/c%3A/Users/calei/OneDrive/Desktop/BC/Projects/Capstone_Project/Random_Forest_starter.ipynb#X23sZmlsZQ%3D%3D?line=5'>6</a>\u001b[0m ac_score\u001b[39m=\u001b[39m accuracy_score(y_train, predictions)\n",
      "File \u001b[1;32mc:\\Users\\calei\\anaconda3\\lib\\site-packages\\sklearn\\metrics\\_classification.py:317\u001b[0m, in \u001b[0;36mconfusion_matrix\u001b[1;34m(y_true, y_pred, labels, sample_weight, normalize)\u001b[0m\n\u001b[0;32m    232\u001b[0m \u001b[39mdef\u001b[39;00m \u001b[39mconfusion_matrix\u001b[39m(\n\u001b[0;32m    233\u001b[0m     y_true, y_pred, \u001b[39m*\u001b[39m, labels\u001b[39m=\u001b[39m\u001b[39mNone\u001b[39;00m, sample_weight\u001b[39m=\u001b[39m\u001b[39mNone\u001b[39;00m, normalize\u001b[39m=\u001b[39m\u001b[39mNone\u001b[39;00m\n\u001b[0;32m    234\u001b[0m ):\n\u001b[0;32m    235\u001b[0m \u001b[39m    \u001b[39m\u001b[39m\"\"\"Compute confusion matrix to evaluate the accuracy of a classification.\u001b[39;00m\n\u001b[0;32m    236\u001b[0m \n\u001b[0;32m    237\u001b[0m \u001b[39m    By definition a confusion matrix :math:`C` is such that :math:`C_{i, j}`\u001b[39;00m\n\u001b[1;32m   (...)\u001b[0m\n\u001b[0;32m    315\u001b[0m \u001b[39m    (0, 2, 1, 1)\u001b[39;00m\n\u001b[0;32m    316\u001b[0m \u001b[39m    \"\"\"\u001b[39;00m\n\u001b[1;32m--> 317\u001b[0m     y_type, y_true, y_pred \u001b[39m=\u001b[39m _check_targets(y_true, y_pred)\n\u001b[0;32m    318\u001b[0m     \u001b[39mif\u001b[39;00m y_type \u001b[39mnot\u001b[39;00m \u001b[39min\u001b[39;00m (\u001b[39m\"\u001b[39m\u001b[39mbinary\u001b[39m\u001b[39m\"\u001b[39m, \u001b[39m\"\u001b[39m\u001b[39mmulticlass\u001b[39m\u001b[39m\"\u001b[39m):\n\u001b[0;32m    319\u001b[0m         \u001b[39mraise\u001b[39;00m \u001b[39mValueError\u001b[39;00m(\u001b[39m\"\u001b[39m\u001b[39m%s\u001b[39;00m\u001b[39m is not supported\u001b[39m\u001b[39m\"\u001b[39m \u001b[39m%\u001b[39m y_type)\n",
      "File \u001b[1;32mc:\\Users\\calei\\anaconda3\\lib\\site-packages\\sklearn\\metrics\\_classification.py:86\u001b[0m, in \u001b[0;36m_check_targets\u001b[1;34m(y_true, y_pred)\u001b[0m\n\u001b[0;32m     59\u001b[0m \u001b[39mdef\u001b[39;00m \u001b[39m_check_targets\u001b[39m(y_true, y_pred):\n\u001b[0;32m     60\u001b[0m \u001b[39m    \u001b[39m\u001b[39m\"\"\"Check that y_true and y_pred belong to the same classification task.\u001b[39;00m\n\u001b[0;32m     61\u001b[0m \n\u001b[0;32m     62\u001b[0m \u001b[39m    This converts multiclass or binary types to a common shape, and raises a\u001b[39;00m\n\u001b[1;32m   (...)\u001b[0m\n\u001b[0;32m     84\u001b[0m \u001b[39m    y_pred : array or indicator matrix\u001b[39;00m\n\u001b[0;32m     85\u001b[0m \u001b[39m    \"\"\"\u001b[39;00m\n\u001b[1;32m---> 86\u001b[0m     check_consistent_length(y_true, y_pred)\n\u001b[0;32m     87\u001b[0m     type_true \u001b[39m=\u001b[39m type_of_target(y_true, input_name\u001b[39m=\u001b[39m\u001b[39m\"\u001b[39m\u001b[39my_true\u001b[39m\u001b[39m\"\u001b[39m)\n\u001b[0;32m     88\u001b[0m     type_pred \u001b[39m=\u001b[39m type_of_target(y_pred, input_name\u001b[39m=\u001b[39m\u001b[39m\"\u001b[39m\u001b[39my_pred\u001b[39m\u001b[39m\"\u001b[39m)\n",
      "File \u001b[1;32mc:\\Users\\calei\\anaconda3\\lib\\site-packages\\sklearn\\utils\\validation.py:397\u001b[0m, in \u001b[0;36mcheck_consistent_length\u001b[1;34m(*arrays)\u001b[0m\n\u001b[0;32m    395\u001b[0m uniques \u001b[39m=\u001b[39m np\u001b[39m.\u001b[39munique(lengths)\n\u001b[0;32m    396\u001b[0m \u001b[39mif\u001b[39;00m \u001b[39mlen\u001b[39m(uniques) \u001b[39m>\u001b[39m \u001b[39m1\u001b[39m:\n\u001b[1;32m--> 397\u001b[0m     \u001b[39mraise\u001b[39;00m \u001b[39mValueError\u001b[39;00m(\n\u001b[0;32m    398\u001b[0m         \u001b[39m\"\u001b[39m\u001b[39mFound input variables with inconsistent numbers of samples: \u001b[39m\u001b[39m%r\u001b[39;00m\u001b[39m\"\u001b[39m\n\u001b[0;32m    399\u001b[0m         \u001b[39m%\u001b[39m [\u001b[39mint\u001b[39m(l) \u001b[39mfor\u001b[39;00m l \u001b[39min\u001b[39;00m lengths]\n\u001b[0;32m    400\u001b[0m     )\n",
      "\u001b[1;31mValueError\u001b[0m: Found input variables with inconsistent numbers of samples: [14358, 4787]"
     ]
    }
   ],
   "source": [
    "cm = confusion_matrix(y_train, predictions)\n",
    "cm_df = pd.DataFrame(\n",
    "    cm, index=[\"\"], columns=['']\n",
    ")\n",
    "\n",
    "ac_score= accuracy_score(y_train, predictions)"
   ]
  },
  {
   "cell_type": "code",
   "execution_count": null,
   "metadata": {},
   "outputs": [],
   "source": [
    "print(\"Confusion Matrix\")\n",
    "display(cm_df)\n",
    "print(f\"Accuracy Score : {ac_score}\")\n",
    "print(classification_report(y_test, predictions))"
   ]
  }
 ],
 "metadata": {
  "kernelspec": {
   "display_name": "base",
   "language": "python",
   "name": "python3"
  },
  "language_info": {
   "codemirror_mode": {
    "name": "ipython",
    "version": 3
   },
   "file_extension": ".py",
   "mimetype": "text/x-python",
   "name": "python",
   "nbconvert_exporter": "python",
   "pygments_lexer": "ipython3",
   "version": "3.10.13"
  },
  "orig_nbformat": 4
 },
 "nbformat": 4,
 "nbformat_minor": 2
}
