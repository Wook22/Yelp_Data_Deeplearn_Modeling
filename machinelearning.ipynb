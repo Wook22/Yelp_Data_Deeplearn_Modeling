{
  "cells": [
    {
      "cell_type": "code",
      "execution_count": 1,
      "metadata": {
        "id": "-e6xXwnulF5h"
      },
      "outputs": [],
      "source": [
        "import pandas as pd\n",
        "import seaborn as sns\n",
        "import matplotlib.pyplot as plt\n",
        "\n",
        "\n",
        "from sklearn.model_selection import train_test_split\n",
        "from sklearn.preprocessing import StandardScaler\n",
        "import tensorflow as tf\n",
        "\n",
        "from sklearn.preprocessing import LabelEncoder"
      ]
    },
    {
      "cell_type": "code",
      "execution_count": 2,
      "metadata": {
        "colab": {
          "base_uri": "https://localhost:8080/",
          "height": 417
        },
        "id": "UbzzLltplF5i",
        "outputId": "325a463a-1664-4c9f-b81e-e8133fa9ae53"
      },
      "outputs": [
        {
          "data": {
            "text/html": [
              "\n",
              "  <div id=\"df-ffe51362-f73d-4775-a3f0-d67ff4d30050\" class=\"colab-df-container\">\n",
              "    <div>\n",
              "<style scoped>\n",
              "    .dataframe tbody tr th:only-of-type {\n",
              "        vertical-align: middle;\n",
              "    }\n",
              "\n",
              "    .dataframe tbody tr th {\n",
              "        vertical-align: top;\n",
              "    }\n",
              "\n",
              "    .dataframe thead th {\n",
              "        text-align: right;\n",
              "    }\n",
              "</style>\n",
              "<table border=\"1\" class=\"dataframe\">\n",
              "  <thead>\n",
              "    <tr style=\"text-align: right;\">\n",
              "      <th></th>\n",
              "      <th>id</th>\n",
              "      <th>name</th>\n",
              "      <th>image_url</th>\n",
              "      <th>is_closed</th>\n",
              "      <th>url</th>\n",
              "      <th>review_count</th>\n",
              "      <th>rating</th>\n",
              "      <th>transactions</th>\n",
              "      <th>price</th>\n",
              "      <th>cuisines</th>\n",
              "      <th>latitude</th>\n",
              "      <th>longitude</th>\n",
              "      <th>state</th>\n",
              "      <th>city</th>\n",
              "    </tr>\n",
              "  </thead>\n",
              "  <tbody>\n",
              "    <tr>\n",
              "      <th>0</th>\n",
              "      <td>a0IET3_yCFcO36OqGSsisg</td>\n",
              "      <td>Eataly NYC Flatiron</td>\n",
              "      <td>https://s3-media4.fl.yelpcdn.com/bphoto/1UDlnu...</td>\n",
              "      <td>False</td>\n",
              "      <td>https://www.yelp.com/biz/eataly-nyc-flatiron-n...</td>\n",
              "      <td>6100</td>\n",
              "      <td>4.0</td>\n",
              "      <td>delivery, pickup</td>\n",
              "      <td>2</td>\n",
              "      <td>Italian</td>\n",
              "      <td>40.742101</td>\n",
              "      <td>-73.989922</td>\n",
              "      <td>NY</td>\n",
              "      <td>New York</td>\n",
              "    </tr>\n",
              "    <tr>\n",
              "      <th>1</th>\n",
              "      <td>zj8Lq1T8KIC5zwFief15jg</td>\n",
              "      <td>Prince Street Pizza</td>\n",
              "      <td>https://s3-media4.fl.yelpcdn.com/bphoto/PfI8oV...</td>\n",
              "      <td>False</td>\n",
              "      <td>https://www.yelp.com/biz/prince-street-pizza-n...</td>\n",
              "      <td>5026</td>\n",
              "      <td>4.5</td>\n",
              "      <td>delivery, pickup</td>\n",
              "      <td>1</td>\n",
              "      <td>Italian</td>\n",
              "      <td>40.723088</td>\n",
              "      <td>-73.994530</td>\n",
              "      <td>NY</td>\n",
              "      <td>New York</td>\n",
              "    </tr>\n",
              "    <tr>\n",
              "      <th>2</th>\n",
              "      <td>16ZnHpuaaBt92XWeJHCC5A</td>\n",
              "      <td>Olio e Più</td>\n",
              "      <td>https://s3-media4.fl.yelpcdn.com/bphoto/CUpPgz...</td>\n",
              "      <td>False</td>\n",
              "      <td>https://www.yelp.com/biz/olio-e-pi%C3%B9-new-y...</td>\n",
              "      <td>4821</td>\n",
              "      <td>4.5</td>\n",
              "      <td>delivery, pickup</td>\n",
              "      <td>2</td>\n",
              "      <td>Italian</td>\n",
              "      <td>40.733798</td>\n",
              "      <td>-73.999774</td>\n",
              "      <td>NY</td>\n",
              "      <td>New York</td>\n",
              "    </tr>\n",
              "    <tr>\n",
              "      <th>3</th>\n",
              "      <td>vyoA8dxwScuMV_AsTcjQcg</td>\n",
              "      <td>L &amp; B Spumoni Gardens</td>\n",
              "      <td>https://s3-media1.fl.yelpcdn.com/bphoto/hN5xKw...</td>\n",
              "      <td>False</td>\n",
              "      <td>https://www.yelp.com/biz/l-and-b-spumoni-garde...</td>\n",
              "      <td>4646</td>\n",
              "      <td>4.0</td>\n",
              "      <td>delivery, pickup</td>\n",
              "      <td>2</td>\n",
              "      <td>Italian</td>\n",
              "      <td>40.594715</td>\n",
              "      <td>-73.981316</td>\n",
              "      <td>NY</td>\n",
              "      <td>Brooklyn</td>\n",
              "    </tr>\n",
              "    <tr>\n",
              "      <th>4</th>\n",
              "      <td>22nKUyCIbpnzR6R3_g1ptQ</td>\n",
              "      <td>Carmine's Italian Restaurant - Times Square</td>\n",
              "      <td>https://s3-media1.fl.yelpcdn.com/bphoto/0UszeE...</td>\n",
              "      <td>False</td>\n",
              "      <td>https://www.yelp.com/biz/carmines-italian-rest...</td>\n",
              "      <td>4640</td>\n",
              "      <td>4.0</td>\n",
              "      <td>delivery, pickup</td>\n",
              "      <td>2</td>\n",
              "      <td>Italian</td>\n",
              "      <td>40.757498</td>\n",
              "      <td>-73.986653</td>\n",
              "      <td>NY</td>\n",
              "      <td>New York</td>\n",
              "    </tr>\n",
              "  </tbody>\n",
              "</table>\n",
              "</div>\n",
              "    <div class=\"colab-df-buttons\">\n",
              "\n",
              "  <div class=\"colab-df-container\">\n",
              "    <button class=\"colab-df-convert\" onclick=\"convertToInteractive('df-ffe51362-f73d-4775-a3f0-d67ff4d30050')\"\n",
              "            title=\"Convert this dataframe to an interactive table.\"\n",
              "            style=\"display:none;\">\n",
              "\n",
              "  <svg xmlns=\"http://www.w3.org/2000/svg\" height=\"24px\" viewBox=\"0 -960 960 960\">\n",
              "    <path d=\"M120-120v-720h720v720H120Zm60-500h600v-160H180v160Zm220 220h160v-160H400v160Zm0 220h160v-160H400v160ZM180-400h160v-160H180v160Zm440 0h160v-160H620v160ZM180-180h160v-160H180v160Zm440 0h160v-160H620v160Z\"/>\n",
              "  </svg>\n",
              "    </button>\n",
              "\n",
              "  <style>\n",
              "    .colab-df-container {\n",
              "      display:flex;\n",
              "      gap: 12px;\n",
              "    }\n",
              "\n",
              "    .colab-df-convert {\n",
              "      background-color: #E8F0FE;\n",
              "      border: none;\n",
              "      border-radius: 50%;\n",
              "      cursor: pointer;\n",
              "      display: none;\n",
              "      fill: #1967D2;\n",
              "      height: 32px;\n",
              "      padding: 0 0 0 0;\n",
              "      width: 32px;\n",
              "    }\n",
              "\n",
              "    .colab-df-convert:hover {\n",
              "      background-color: #E2EBFA;\n",
              "      box-shadow: 0px 1px 2px rgba(60, 64, 67, 0.3), 0px 1px 3px 1px rgba(60, 64, 67, 0.15);\n",
              "      fill: #174EA6;\n",
              "    }\n",
              "\n",
              "    .colab-df-buttons div {\n",
              "      margin-bottom: 4px;\n",
              "    }\n",
              "\n",
              "    [theme=dark] .colab-df-convert {\n",
              "      background-color: #3B4455;\n",
              "      fill: #D2E3FC;\n",
              "    }\n",
              "\n",
              "    [theme=dark] .colab-df-convert:hover {\n",
              "      background-color: #434B5C;\n",
              "      box-shadow: 0px 1px 3px 1px rgba(0, 0, 0, 0.15);\n",
              "      filter: drop-shadow(0px 1px 2px rgba(0, 0, 0, 0.3));\n",
              "      fill: #FFFFFF;\n",
              "    }\n",
              "  </style>\n",
              "\n",
              "    <script>\n",
              "      const buttonEl =\n",
              "        document.querySelector('#df-ffe51362-f73d-4775-a3f0-d67ff4d30050 button.colab-df-convert');\n",
              "      buttonEl.style.display =\n",
              "        google.colab.kernel.accessAllowed ? 'block' : 'none';\n",
              "\n",
              "      async function convertToInteractive(key) {\n",
              "        const element = document.querySelector('#df-ffe51362-f73d-4775-a3f0-d67ff4d30050');\n",
              "        const dataTable =\n",
              "          await google.colab.kernel.invokeFunction('convertToInteractive',\n",
              "                                                    [key], {});\n",
              "        if (!dataTable) return;\n",
              "\n",
              "        const docLinkHtml = 'Like what you see? Visit the ' +\n",
              "          '<a target=\"_blank\" href=https://colab.research.google.com/notebooks/data_table.ipynb>data table notebook</a>'\n",
              "          + ' to learn more about interactive tables.';\n",
              "        element.innerHTML = '';\n",
              "        dataTable['output_type'] = 'display_data';\n",
              "        await google.colab.output.renderOutput(dataTable, element);\n",
              "        const docLink = document.createElement('div');\n",
              "        docLink.innerHTML = docLinkHtml;\n",
              "        element.appendChild(docLink);\n",
              "      }\n",
              "    </script>\n",
              "  </div>\n",
              "\n",
              "\n",
              "<div id=\"df-95725f2c-b6be-4d77-a671-ef4ccb9af463\">\n",
              "  <button class=\"colab-df-quickchart\" onclick=\"quickchart('df-95725f2c-b6be-4d77-a671-ef4ccb9af463')\"\n",
              "            title=\"Suggest charts.\"\n",
              "            style=\"display:none;\">\n",
              "\n",
              "<svg xmlns=\"http://www.w3.org/2000/svg\" height=\"24px\"viewBox=\"0 0 24 24\"\n",
              "     width=\"24px\">\n",
              "    <g>\n",
              "        <path d=\"M19 3H5c-1.1 0-2 .9-2 2v14c0 1.1.9 2 2 2h14c1.1 0 2-.9 2-2V5c0-1.1-.9-2-2-2zM9 17H7v-7h2v7zm4 0h-2V7h2v10zm4 0h-2v-4h2v4z\"/>\n",
              "    </g>\n",
              "</svg>\n",
              "  </button>\n",
              "\n",
              "<style>\n",
              "  .colab-df-quickchart {\n",
              "      --bg-color: #E8F0FE;\n",
              "      --fill-color: #1967D2;\n",
              "      --hover-bg-color: #E2EBFA;\n",
              "      --hover-fill-color: #174EA6;\n",
              "      --disabled-fill-color: #AAA;\n",
              "      --disabled-bg-color: #DDD;\n",
              "  }\n",
              "\n",
              "  [theme=dark] .colab-df-quickchart {\n",
              "      --bg-color: #3B4455;\n",
              "      --fill-color: #D2E3FC;\n",
              "      --hover-bg-color: #434B5C;\n",
              "      --hover-fill-color: #FFFFFF;\n",
              "      --disabled-bg-color: #3B4455;\n",
              "      --disabled-fill-color: #666;\n",
              "  }\n",
              "\n",
              "  .colab-df-quickchart {\n",
              "    background-color: var(--bg-color);\n",
              "    border: none;\n",
              "    border-radius: 50%;\n",
              "    cursor: pointer;\n",
              "    display: none;\n",
              "    fill: var(--fill-color);\n",
              "    height: 32px;\n",
              "    padding: 0;\n",
              "    width: 32px;\n",
              "  }\n",
              "\n",
              "  .colab-df-quickchart:hover {\n",
              "    background-color: var(--hover-bg-color);\n",
              "    box-shadow: 0 1px 2px rgba(60, 64, 67, 0.3), 0 1px 3px 1px rgba(60, 64, 67, 0.15);\n",
              "    fill: var(--button-hover-fill-color);\n",
              "  }\n",
              "\n",
              "  .colab-df-quickchart-complete:disabled,\n",
              "  .colab-df-quickchart-complete:disabled:hover {\n",
              "    background-color: var(--disabled-bg-color);\n",
              "    fill: var(--disabled-fill-color);\n",
              "    box-shadow: none;\n",
              "  }\n",
              "\n",
              "  .colab-df-spinner {\n",
              "    border: 2px solid var(--fill-color);\n",
              "    border-color: transparent;\n",
              "    border-bottom-color: var(--fill-color);\n",
              "    animation:\n",
              "      spin 1s steps(1) infinite;\n",
              "  }\n",
              "\n",
              "  @keyframes spin {\n",
              "    0% {\n",
              "      border-color: transparent;\n",
              "      border-bottom-color: var(--fill-color);\n",
              "      border-left-color: var(--fill-color);\n",
              "    }\n",
              "    20% {\n",
              "      border-color: transparent;\n",
              "      border-left-color: var(--fill-color);\n",
              "      border-top-color: var(--fill-color);\n",
              "    }\n",
              "    30% {\n",
              "      border-color: transparent;\n",
              "      border-left-color: var(--fill-color);\n",
              "      border-top-color: var(--fill-color);\n",
              "      border-right-color: var(--fill-color);\n",
              "    }\n",
              "    40% {\n",
              "      border-color: transparent;\n",
              "      border-right-color: var(--fill-color);\n",
              "      border-top-color: var(--fill-color);\n",
              "    }\n",
              "    60% {\n",
              "      border-color: transparent;\n",
              "      border-right-color: var(--fill-color);\n",
              "    }\n",
              "    80% {\n",
              "      border-color: transparent;\n",
              "      border-right-color: var(--fill-color);\n",
              "      border-bottom-color: var(--fill-color);\n",
              "    }\n",
              "    90% {\n",
              "      border-color: transparent;\n",
              "      border-bottom-color: var(--fill-color);\n",
              "    }\n",
              "  }\n",
              "</style>\n",
              "\n",
              "  <script>\n",
              "    async function quickchart(key) {\n",
              "      const quickchartButtonEl =\n",
              "        document.querySelector('#' + key + ' button');\n",
              "      quickchartButtonEl.disabled = true;  // To prevent multiple clicks.\n",
              "      quickchartButtonEl.classList.add('colab-df-spinner');\n",
              "      try {\n",
              "        const charts = await google.colab.kernel.invokeFunction(\n",
              "            'suggestCharts', [key], {});\n",
              "      } catch (error) {\n",
              "        console.error('Error during call to suggestCharts:', error);\n",
              "      }\n",
              "      quickchartButtonEl.classList.remove('colab-df-spinner');\n",
              "      quickchartButtonEl.classList.add('colab-df-quickchart-complete');\n",
              "    }\n",
              "    (() => {\n",
              "      let quickchartButtonEl =\n",
              "        document.querySelector('#df-95725f2c-b6be-4d77-a671-ef4ccb9af463 button');\n",
              "      quickchartButtonEl.style.display =\n",
              "        google.colab.kernel.accessAllowed ? 'block' : 'none';\n",
              "    })();\n",
              "  </script>\n",
              "</div>\n",
              "    </div>\n",
              "  </div>\n"
            ],
            "text/plain": [
              "                       id                                         name  \\\n",
              "0  a0IET3_yCFcO36OqGSsisg                          Eataly NYC Flatiron   \n",
              "1  zj8Lq1T8KIC5zwFief15jg                          Prince Street Pizza   \n",
              "2  16ZnHpuaaBt92XWeJHCC5A                                   Olio e Più   \n",
              "3  vyoA8dxwScuMV_AsTcjQcg                        L & B Spumoni Gardens   \n",
              "4  22nKUyCIbpnzR6R3_g1ptQ  Carmine's Italian Restaurant - Times Square   \n",
              "\n",
              "                                           image_url  is_closed  \\\n",
              "0  https://s3-media4.fl.yelpcdn.com/bphoto/1UDlnu...      False   \n",
              "1  https://s3-media4.fl.yelpcdn.com/bphoto/PfI8oV...      False   \n",
              "2  https://s3-media4.fl.yelpcdn.com/bphoto/CUpPgz...      False   \n",
              "3  https://s3-media1.fl.yelpcdn.com/bphoto/hN5xKw...      False   \n",
              "4  https://s3-media1.fl.yelpcdn.com/bphoto/0UszeE...      False   \n",
              "\n",
              "                                                 url  review_count  rating  \\\n",
              "0  https://www.yelp.com/biz/eataly-nyc-flatiron-n...          6100     4.0   \n",
              "1  https://www.yelp.com/biz/prince-street-pizza-n...          5026     4.5   \n",
              "2  https://www.yelp.com/biz/olio-e-pi%C3%B9-new-y...          4821     4.5   \n",
              "3  https://www.yelp.com/biz/l-and-b-spumoni-garde...          4646     4.0   \n",
              "4  https://www.yelp.com/biz/carmines-italian-rest...          4640     4.0   \n",
              "\n",
              "       transactions  price cuisines   latitude  longitude state      city  \n",
              "0  delivery, pickup      2  Italian  40.742101 -73.989922    NY  New York  \n",
              "1  delivery, pickup      1  Italian  40.723088 -73.994530    NY  New York  \n",
              "2  delivery, pickup      2  Italian  40.733798 -73.999774    NY  New York  \n",
              "3  delivery, pickup      2  Italian  40.594715 -73.981316    NY  Brooklyn  \n",
              "4  delivery, pickup      2  Italian  40.757498 -73.986653    NY  New York  "
            ]
          },
          "execution_count": 2,
          "metadata": {},
          "output_type": "execute_result"
        }
      ],
      "source": [
        "yelp_df = pd.read_csv(\"cleaned_data.csv\")\n",
        "\n",
        "yelp_df.head()"
      ]
    },
    {
      "cell_type": "code",
      "execution_count": 3,
      "metadata": {
        "id": "GmtyTeyPlF5i"
      },
      "outputs": [],
      "source": [
        "# Create new columns and check if 'delivery', 'pickup', or 'restaurant_reservation' is in 'transactions'\n",
        "yelp_df['delivery'] = yelp_df['transactions'].str.contains('delivery', case=False, na=False)\n",
        "yelp_df['pickup'] = yelp_df['transactions'].str.contains('pickup', case=False, na=False)\n",
        "yelp_df['restaurant_reservation'] = yelp_df['transactions'].str.contains('restaurant_reservation', case=False, na=False)\n",
        "\n",
        "# Fill NaN values with False in the new columns\n",
        "yelp_df['delivery'] = yelp_df['delivery'].fillna(False)\n",
        "yelp_df['pickup'] = yelp_df['pickup'].fillna(False)\n",
        "yelp_df['restaurant_reservation'] = yelp_df['restaurant_reservation'].fillna(False)"
      ]
    },
    {
      "cell_type": "code",
      "execution_count": 4,
      "metadata": {
        "id": "EKKrKTC5lF5j"
      },
      "outputs": [],
      "source": [
        "yelp_df.drop(columns='transactions', inplace= True)\n",
        "\n",
        "yelp_df.dropna(inplace=True)"
      ]
    },
    {
      "cell_type": "code",
      "execution_count": 5,
      "metadata": {
        "id": "C2NdQOV8lF5j"
      },
      "outputs": [],
      "source": [
        "# Define a function to determine 'success'\n",
        "def is_success(rating):\n",
        "    return rating > 3.7\n",
        "\n",
        "# Create a new 'success' column based on the 'rating' column\n",
        "yelp_df['success'] = yelp_df['rating'].apply(is_success)"
      ]
    },
    {
      "cell_type": "code",
      "execution_count": 6,
      "metadata": {
        "colab": {
          "base_uri": "https://localhost:8080/",
          "height": 410
        },
        "id": "K5acwGAjlF5j",
        "outputId": "e371c06d-9d54-4edc-911b-d963de6eae97"
      },
      "outputs": [
        {
          "data": {
            "image/png": "[encoded data removed]",
            "text/plain": [
              "<Figure size 600x400 with 1 Axes>"
            ]
          },
          "metadata": {},
          "output_type": "display_data"
        }
      ],
      "source": [
        "# Count the values in the 'success' column\n",
        "success_counts = yelp_df['success'].value_counts()\n",
        "\n",
        "# Create a bar chart\n",
        "plt.figure(figsize=(6, 4))\n",
        "success_counts.plot(kind='bar', color=['green', 'red'], alpha=0.7)\n",
        "plt.title('Count of Success (True/False)')\n",
        "plt.xlabel('Success')\n",
        "plt.ylabel('Count')\n",
        "\n",
        "# Annotate the bars with counts\n",
        "for index, value in enumerate(success_counts):\n",
        "    plt.text(index, value, str(value), ha='center', va='bottom')\n",
        "\n",
        "plt.xticks(rotation=0)\n",
        "plt.show()"
      ]
    },
    {
      "cell_type": "code",
      "execution_count": 7,
      "metadata": {
        "id": "SWnWIerWlF5j"
      },
      "outputs": [],
      "source": [
        "# Set features\n",
        "y = yelp_df['success']\n",
        "X = yelp_df.drop(columns=['success'])\n"
      ]
    },
    {
      "cell_type": "code",
      "execution_count": 8,
      "metadata": {
        "colab": {
          "base_uri": "https://localhost:8080/",
          "height": 899
        },
        "id": "kqfnbmPGlF5j",
        "outputId": "cfd2e513-1c11-46fe-b871-339be9f655a8"
      },
      "outputs": [
        {
          "name": "stderr",
          "output_type": "stream",
          "text": [
            "<ipython-input-8-8b1c33342ed7>:2: FutureWarning: The default value of numeric_only in DataFrame.corr is deprecated. In a future version, it will default to False. Select only valid columns or specify the value of numeric_only to silence this warning.\n",
            "  correlation_matrix = X.corr()\n"
          ]
        },
        {
          "data": {
            "image/png": "[encoded data removed]",
            "text/plain": [
              "<Figure size 1000x800 with 2 Axes>"
            ]
          },
          "metadata": {},
          "output_type": "display_data"
        }
      ],
      "source": [
        "# Generate a correlation matrix for your features (X)\n",
        "correlation_matrix = X.corr()\n",
        "\n",
        "# Create a heatmap with correlation values\n",
        "plt.figure(figsize=(10, 8))\n",
        "sns.heatmap(correlation_matrix, annot=True, cmap='RdBu_r', fmt=\".2f\")\n",
        "plt.title('Correlation Heatmap')\n",
        "plt.show()"
      ]
    },
    {
      "cell_type": "code",
      "execution_count": 9,
      "metadata": {
        "id": "4oNEZ2zblF5j"
      },
      "outputs": [],
      "source": [
        "X.drop(columns=['id','name','image_url','url','state','city'], inplace=True)\n",
        "\n"
      ]
    },
    {
      "cell_type": "code",
      "execution_count": 10,
      "metadata": {
        "colab": {
          "base_uri": "https://localhost:8080/"
        },
        "id": "3CbYVKZplF5j",
        "outputId": "00a790fd-ea71-4ac2-a38a-6ce2198217a3"
      },
      "outputs": [
        {
          "name": "stdout",
          "output_type": "stream",
          "text": [
            "<class 'pandas.core.frame.DataFrame'>\n",
            "Int64Index: 19025 entries, 0 to 19142\n",
            "Data columns (total 10 columns):\n",
            " #   Column                  Non-Null Count  Dtype  \n",
            "---  ------                  --------------  -----  \n",
            " 0   is_closed               19025 non-null  bool   \n",
            " 1   review_count            19025 non-null  int64  \n",
            " 2   rating                  19025 non-null  float64\n",
            " 3   price                   19025 non-null  int64  \n",
            " 4   cuisines                19025 non-null  object \n",
            " 5   latitude                19025 non-null  float64\n",
            " 6   longitude               19025 non-null  float64\n",
            " 7   delivery                19025 non-null  bool   \n",
            " 8   pickup                  19025 non-null  bool   \n",
            " 9   restaurant_reservation  19025 non-null  bool   \n",
            "dtypes: bool(4), float64(3), int64(2), object(1)\n",
            "memory usage: 1.1+ MB\n"
          ]
        }
      ],
      "source": [
        "X.info()"
      ]
    },
    {
      "cell_type": "code",
      "execution_count": 11,
      "metadata": {
        "colab": {
          "base_uri": "https://localhost:8080/"
        },
        "id": "megj04CSlF5k",
        "outputId": "10deeaf3-75bc-4b6c-9e59-0199f4952aa9"
      },
      "outputs": [
        {
          "name": "stderr",
          "output_type": "stream",
          "text": [
            "<ipython-input-11-5d6a54f881fb>:5: DeprecationWarning: In a future version, `df.iloc[:, i] = newvals` will attempt to set the values inplace instead of always setting a new array. To retain the old behavior, use either `df[df.columns[i]] = newvals` or, if columns are non-unique, `df.isetitem(i, newvals)`\n",
            "  X.loc[:,'cuisines'] = le.fit_transform(X.loc[:,'cuisines'])\n",
            "<ipython-input-11-5d6a54f881fb>:9: DeprecationWarning: In a future version, `df.iloc[:, i] = newvals` will attempt to set the values inplace instead of always setting a new array. To retain the old behavior, use either `df[df.columns[i]] = newvals` or, if columns are non-unique, `df.isetitem(i, newvals)`\n",
            "  X.loc[:,['rating', 'latitude', 'longitude']] = X.loc[:,['rating', 'latitude', 'longitude']].astype(int)\n"
          ]
        }
      ],
      "source": [
        "# Create label encoder object\n",
        "le = LabelEncoder()\n",
        "\n",
        "# Encode categorical variables\n",
        "X.loc[:,'cuisines'] = le.fit_transform(X.loc[:,'cuisines'])\n",
        "\n",
        "\n",
        "# convert float columns to integer\n",
        "X.loc[:,['rating', 'latitude', 'longitude']] = X.loc[:,['rating', 'latitude', 'longitude']].astype(int)\n",
        "\n",
        "X = X.astype(int)"
      ]
    },
    {
      "cell_type": "code",
      "execution_count": 12,
      "metadata": {
        "id": "bWRKgEg9lF5k"
      },
      "outputs": [],
      "source": [
        "# Split the preprocessed data into a training and testing dataset\n",
        "X_train, X_test, y_train, y_test = train_test_split(X, y, test_size=0.5, stratify=y)"
      ]
    },
    {
      "cell_type": "code",
      "execution_count": 13,
      "metadata": {
        "id": "TQtFjsn2lF5k"
      },
      "outputs": [],
      "source": [
        "# Create a StandardScaler instances\n",
        "scaler = StandardScaler()\n",
        "\n",
        "# Fit the StandardScaler\n",
        "X_scaler = scaler.fit(X_train)\n",
        "\n",
        "# Scale the data\n",
        "X_train_scaled = X_scaler.transform(X_train)\n",
        "X_test_scaled = X_scaler.transform(X_test)"
      ]
    },
    {
      "cell_type": "code",
      "execution_count": 14,
      "metadata": {
        "colab": {
          "base_uri": "https://localhost:8080/"
        },
        "id": "MZ0DExxklF5k",
        "outputId": "054663c1-1d08-4aaf-8566-16814d670a8f"
      },
      "outputs": [
        {
          "name": "stdout",
          "output_type": "stream",
          "text": [
            "Model: \"sequential\"\n",
            "_________________________________________________________________\n",
            " Layer (type)                Output Shape              Param #   \n",
            "=================================================================\n",
            " dense (Dense)               (None, 10)                110       \n",
            "                                                                 \n",
            " dense_1 (Dense)             (None, 5)                 55        \n",
            "                                                                 \n",
            " dense_2 (Dense)             (None, 1)                 6         \n",
            "                                                                 \n",
            "=================================================================\n",
            "Total params: 171 (684.00 Byte)\n",
            "Trainable params: 171 (684.00 Byte)\n",
            "Non-trainable params: 0 (0.00 Byte)\n",
            "_________________________________________________________________\n"
          ]
        }
      ],
      "source": [
        "# Define the model - deep neural net, i.e., the number of input features and hidden nodes for each layer.\n",
        "number_input_features = len( X_train_scaled[0])\n",
        "hidden_nodes_layer1=10\n",
        "hidden_nodes_layer2=30\n",
        "hidden_nodes_layer3=5\n",
        "\n",
        "\n",
        "nn = tf.keras.models.Sequential()\n",
        "\n",
        "# First hidden layer\n",
        "nn.add(tf.keras.layers.Dense(units=hidden_nodes_layer1, input_dim=number_input_features, activation='relu'))\n",
        "\n",
        "\n",
        "# # Second hidden layer\n",
        "# nn.add(tf.keras.layers.Dense(units=hidden_nodes_layer2, activation='relu'))\n",
        "\n",
        "# Third hidden layer\n",
        "nn.add(tf.keras.layers.Dense(units=hidden_nodes_layer3, activation='relu'))\n",
        "\n",
        "\n",
        "# Output layer\n",
        "nn.add(tf.keras.layers.Dense(units=1, activation='sigmoid'))\n",
        "\n",
        "\n",
        "# Check the structure of the model\n",
        "nn.summary()"
      ]
    },
    {
      "cell_type": "code",
      "execution_count": 15,
      "metadata": {
        "id": "YqAoth6rlF5k"
      },
      "outputs": [],
      "source": [
        "# Compile the model\n",
        "nn.compile(loss = 'binary_crossentropy', optimizer = 'adam', metrics=['accuracy'])"
      ]
    },
    {
      "cell_type": "code",
      "execution_count": 16,
      "metadata": {
        "colab": {
          "base_uri": "https://localhost:8080/"
        },
        "id": "aUps7HDElF5k",
        "outputId": "d75c8695-fb2e-46c0-9e19-01affc95cede"
      },
      "outputs": [
        {
          "name": "stdout",
          "output_type": "stream",
          "text": [
            "Epoch 1/10\n",
            "253/253 [==============================] - 4s 7ms/step - loss: 0.6474 - accuracy: 0.6391 - val_loss: 0.4905 - val_accuracy: 0.8591\n",
            "Epoch 2/10\n",
            "253/253 [==============================] - 2s 8ms/step - loss: 0.2877 - accuracy: 0.9539 - val_loss: 0.1292 - val_accuracy: 0.9881\n",
            "Epoch 3/10\n",
            "253/253 [==============================] - 2s 9ms/step - loss: 0.0657 - accuracy: 0.9926 - val_loss: 0.0337 - val_accuracy: 0.9951\n",
            "Epoch 4/10\n",
            "253/253 [==============================] - 1s 5ms/step - loss: 0.0201 - accuracy: 0.9976 - val_loss: 0.0134 - val_accuracy: 0.9979\n",
            "Epoch 5/10\n",
            "253/253 [==============================] - 2s 6ms/step - loss: 0.0087 - accuracy: 0.9993 - val_loss: 0.0066 - val_accuracy: 1.0000\n",
            "Epoch 6/10\n",
            "253/253 [==============================] - 2s 6ms/step - loss: 0.0045 - accuracy: 1.0000 - val_loss: 0.0038 - val_accuracy: 1.0000\n",
            "Epoch 7/10\n",
            "253/253 [==============================] - 1s 5ms/step - loss: 0.0027 - accuracy: 1.0000 - val_loss: 0.0024 - val_accuracy: 1.0000\n",
            "Epoch 8/10\n",
            "253/253 [==============================] - 2s 7ms/step - loss: 0.0017 - accuracy: 1.0000 - val_loss: 0.0017 - val_accuracy: 1.0000\n",
            "Epoch 9/10\n",
            "253/253 [==============================] - 2s 6ms/step - loss: 0.0012 - accuracy: 1.0000 - val_loss: 0.0012 - val_accuracy: 1.0000\n",
            "Epoch 10/10\n",
            "253/253 [==============================] - 3s 11ms/step - loss: 8.6671e-04 - accuracy: 1.0000 - val_loss: 9.0198e-04 - val_accuracy: 1.0000\n"
          ]
        }
      ],
      "source": [
        "# Train the model\n",
        "fit_model = nn.fit(X_train_scaled,y_train,validation_split=0.15, epochs=10)"
      ]
    },
    {
      "cell_type": "code",
      "execution_count": 17,
      "metadata": {
        "colab": {
          "base_uri": "https://localhost:8080/"
        },
        "id": "SRnaTptDlF5k",
        "outputId": "3bfdbada-108e-4f03-ffac-e0f552cc27de"
      },
      "outputs": [
        {
          "name": "stdout",
          "output_type": "stream",
          "text": [
            "298/298 - 1s - loss: 0.0010 - accuracy: 0.9999 - 705ms/epoch - 2ms/step\n",
            "Loss: 0.0010495708556845784, Accuracy: 0.9998948574066162\n"
          ]
        }
      ],
      "source": [
        "# Evaluate the model using the test data\n",
        "model_loss, model_accuracy = nn.evaluate(X_test_scaled,y_test,verbose=2)\n",
        "print(f\"Loss: {model_loss}, Accuracy: {model_accuracy}\")\n"
      ]
    },
    {
      "cell_type": "code",
      "execution_count": 18,
      "metadata": {
        "colab": {
          "base_uri": "https://localhost:8080/"
        },
        "id": "585mpuFgorZ2",
        "outputId": "1c61b581-f2e2-432b-aa3c-dc4c92b76614"
      },
      "outputs": [
        {
          "name": "stdout",
          "output_type": "stream",
          "text": [
            "Model: \"sequential\"\n",
            "_________________________________________________________________\n",
            " Layer (type)                Output Shape              Param #   \n",
            "=================================================================\n",
            " dense (Dense)               (None, 10)                110       \n",
            "                                                                 \n",
            " dense_1 (Dense)             (None, 5)                 55        \n",
            "                                                                 \n",
            " dense_2 (Dense)             (None, 1)                 6         \n",
            "                                                                 \n",
            "=================================================================\n",
            "Total params: 171 (684.00 Byte)\n",
            "Trainable params: 171 (684.00 Byte)\n",
            "Non-trainable params: 0 (0.00 Byte)\n",
            "_________________________________________________________________\n"
          ]
        }
      ],
      "source": [
        "nn.summary()"
      ]
    }
  ],
  "metadata": {
    "colab": {
      "provenance": []
    },
    "kernelspec": {
      "display_name": "Python 3",
      "language": "python",
      "name": "python3"
    },
    "language_info": {
      "codemirror_mode": {
        "name": "ipython",
        "version": 3
      },
      "file_extension": ".py",
      "mimetype": "text/x-python",
      "name": "python",
      "nbconvert_exporter": "python",
      "pygments_lexer": "ipython3",
      "version": "3.9.13"
    },
    "orig_nbformat": 4
  },
  "nbformat": 4,
  "nbformat_minor": 0
}
