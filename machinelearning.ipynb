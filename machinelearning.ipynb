{
  "cells": [
    {
      "cell_type": "code",
      "execution_count": 1,
      "metadata": {
        "id": "-e6xXwnulF5h"
      },
      "outputs": [],
      "source": [
        "import pandas as pd\n",
        "import seaborn as sns\n",
        "import matplotlib.pyplot as plt\n",
        "\n",
        "\n",
        "from sklearn.model_selection import train_test_split\n",
        "from sklearn.preprocessing import StandardScaler\n",
        "from sklearn.preprocessing import LabelEncoder\n",
        "\n",
        "import tensorflow as tf\n",
        "from tensorflow import keras\n",
        "\n"
      ]
    },
    {
      "cell_type": "code",
      "execution_count": 2,
      "metadata": {
        "colab": {
          "base_uri": "https://localhost:8080/",
          "height": 417
        },
        "id": "UbzzLltplF5i",
        "outputId": "981c43a6-9c1a-45f8-f77a-575eb97d96f6"
      },
      "outputs": [
        {
          "output_type": "execute_result",
          "data": {
            "text/plain": [
              "                       id                                         name  \\\n",
              "0  a0IET3_yCFcO36OqGSsisg                          Eataly NYC Flatiron   \n",
              "1  zj8Lq1T8KIC5zwFief15jg                          Prince Street Pizza   \n",
              "2  16ZnHpuaaBt92XWeJHCC5A                                   Olio e Più   \n",
              "3  vyoA8dxwScuMV_AsTcjQcg                        L & B Spumoni Gardens   \n",
              "4  22nKUyCIbpnzR6R3_g1ptQ  Carmine's Italian Restaurant - Times Square   \n",
              "\n",
              "                                           image_url  is_closed  \\\n",
              "0  https://s3-media4.fl.yelpcdn.com/bphoto/1UDlnu...      False   \n",
              "1  https://s3-media4.fl.yelpcdn.com/bphoto/PfI8oV...      False   \n",
              "2  https://s3-media4.fl.yelpcdn.com/bphoto/CUpPgz...      False   \n",
              "3  https://s3-media1.fl.yelpcdn.com/bphoto/hN5xKw...      False   \n",
              "4  https://s3-media1.fl.yelpcdn.com/bphoto/0UszeE...      False   \n",
              "\n",
              "                                                 url  review_count  rating  \\\n",
              "0  https://www.yelp.com/biz/eataly-nyc-flatiron-n...          6100     4.0   \n",
              "1  https://www.yelp.com/biz/prince-street-pizza-n...          5026     4.5   \n",
              "2  https://www.yelp.com/biz/olio-e-pi%C3%B9-new-y...          4821     4.5   \n",
              "3  https://www.yelp.com/biz/l-and-b-spumoni-garde...          4646     4.0   \n",
              "4  https://www.yelp.com/biz/carmines-italian-rest...          4640     4.0   \n",
              "\n",
              "       transactions  price cuisines   latitude  longitude state      city  \n",
              "0  delivery, pickup      2  Italian  40.742101 -73.989922    NY  New York  \n",
              "1  delivery, pickup      1  Italian  40.723088 -73.994530    NY  New York  \n",
              "2  delivery, pickup      2  Italian  40.733798 -73.999774    NY  New York  \n",
              "3  delivery, pickup      2  Italian  40.594715 -73.981316    NY  Brooklyn  \n",
              "4  delivery, pickup      2  Italian  40.757498 -73.986653    NY  New York  "
            ],
            "text/html": [
              "\n",
              "  <div id=\"df-6eba8198-6e5c-458a-ac79-0f06db6e14f9\" class=\"colab-df-container\">\n",
              "    <div>\n",
              "<style scoped>\n",
              "    .dataframe tbody tr th:only-of-type {\n",
              "        vertical-align: middle;\n",
              "    }\n",
              "\n",
              "    .dataframe tbody tr th {\n",
              "        vertical-align: top;\n",
              "    }\n",
              "\n",
              "    .dataframe thead th {\n",
              "        text-align: right;\n",
              "    }\n",
              "</style>\n",
              "<table border=\"1\" class=\"dataframe\">\n",
              "  <thead>\n",
              "    <tr style=\"text-align: right;\">\n",
              "      <th></th>\n",
              "      <th>id</th>\n",
              "      <th>name</th>\n",
              "      <th>image_url</th>\n",
              "      <th>is_closed</th>\n",
              "      <th>url</th>\n",
              "      <th>review_count</th>\n",
              "      <th>rating</th>\n",
              "      <th>transactions</th>\n",
              "      <th>price</th>\n",
              "      <th>cuisines</th>\n",
              "      <th>latitude</th>\n",
              "      <th>longitude</th>\n",
              "      <th>state</th>\n",
              "      <th>city</th>\n",
              "    </tr>\n",
              "  </thead>\n",
              "  <tbody>\n",
              "    <tr>\n",
              "      <th>0</th>\n",
              "      <td>a0IET3_yCFcO36OqGSsisg</td>\n",
              "      <td>Eataly NYC Flatiron</td>\n",
              "      <td>https://s3-media4.fl.yelpcdn.com/bphoto/1UDlnu...</td>\n",
              "      <td>False</td>\n",
              "      <td>https://www.yelp.com/biz/eataly-nyc-flatiron-n...</td>\n",
              "      <td>6100</td>\n",
              "      <td>4.0</td>\n",
              "      <td>delivery, pickup</td>\n",
              "      <td>2</td>\n",
              "      <td>Italian</td>\n",
              "      <td>40.742101</td>\n",
              "      <td>-73.989922</td>\n",
              "      <td>NY</td>\n",
              "      <td>New York</td>\n",
              "    </tr>\n",
              "    <tr>\n",
              "      <th>1</th>\n",
              "      <td>zj8Lq1T8KIC5zwFief15jg</td>\n",
              "      <td>Prince Street Pizza</td>\n",
              "      <td>https://s3-media4.fl.yelpcdn.com/bphoto/PfI8oV...</td>\n",
              "      <td>False</td>\n",
              "      <td>https://www.yelp.com/biz/prince-street-pizza-n...</td>\n",
              "      <td>5026</td>\n",
              "      <td>4.5</td>\n",
              "      <td>delivery, pickup</td>\n",
              "      <td>1</td>\n",
              "      <td>Italian</td>\n",
              "      <td>40.723088</td>\n",
              "      <td>-73.994530</td>\n",
              "      <td>NY</td>\n",
              "      <td>New York</td>\n",
              "    </tr>\n",
              "    <tr>\n",
              "      <th>2</th>\n",
              "      <td>16ZnHpuaaBt92XWeJHCC5A</td>\n",
              "      <td>Olio e Più</td>\n",
              "      <td>https://s3-media4.fl.yelpcdn.com/bphoto/CUpPgz...</td>\n",
              "      <td>False</td>\n",
              "      <td>https://www.yelp.com/biz/olio-e-pi%C3%B9-new-y...</td>\n",
              "      <td>4821</td>\n",
              "      <td>4.5</td>\n",
              "      <td>delivery, pickup</td>\n",
              "      <td>2</td>\n",
              "      <td>Italian</td>\n",
              "      <td>40.733798</td>\n",
              "      <td>-73.999774</td>\n",
              "      <td>NY</td>\n",
              "      <td>New York</td>\n",
              "    </tr>\n",
              "    <tr>\n",
              "      <th>3</th>\n",
              "      <td>vyoA8dxwScuMV_AsTcjQcg</td>\n",
              "      <td>L &amp; B Spumoni Gardens</td>\n",
              "      <td>https://s3-media1.fl.yelpcdn.com/bphoto/hN5xKw...</td>\n",
              "      <td>False</td>\n",
              "      <td>https://www.yelp.com/biz/l-and-b-spumoni-garde...</td>\n",
              "      <td>4646</td>\n",
              "      <td>4.0</td>\n",
              "      <td>delivery, pickup</td>\n",
              "      <td>2</td>\n",
              "      <td>Italian</td>\n",
              "      <td>40.594715</td>\n",
              "      <td>-73.981316</td>\n",
              "      <td>NY</td>\n",
              "      <td>Brooklyn</td>\n",
              "    </tr>\n",
              "    <tr>\n",
              "      <th>4</th>\n",
              "      <td>22nKUyCIbpnzR6R3_g1ptQ</td>\n",
              "      <td>Carmine's Italian Restaurant - Times Square</td>\n",
              "      <td>https://s3-media1.fl.yelpcdn.com/bphoto/0UszeE...</td>\n",
              "      <td>False</td>\n",
              "      <td>https://www.yelp.com/biz/carmines-italian-rest...</td>\n",
              "      <td>4640</td>\n",
              "      <td>4.0</td>\n",
              "      <td>delivery, pickup</td>\n",
              "      <td>2</td>\n",
              "      <td>Italian</td>\n",
              "      <td>40.757498</td>\n",
              "      <td>-73.986653</td>\n",
              "      <td>NY</td>\n",
              "      <td>New York</td>\n",
              "    </tr>\n",
              "  </tbody>\n",
              "</table>\n",
              "</div>\n",
              "    <div class=\"colab-df-buttons\">\n",
              "\n",
              "  <div class=\"colab-df-container\">\n",
              "    <button class=\"colab-df-convert\" onclick=\"convertToInteractive('df-6eba8198-6e5c-458a-ac79-0f06db6e14f9')\"\n",
              "            title=\"Convert this dataframe to an interactive table.\"\n",
              "            style=\"display:none;\">\n",
              "\n",
              "  <svg xmlns=\"http://www.w3.org/2000/svg\" height=\"24px\" viewBox=\"0 -960 960 960\">\n",
              "    <path d=\"M120-120v-720h720v720H120Zm60-500h600v-160H180v160Zm220 220h160v-160H400v160Zm0 220h160v-160H400v160ZM180-400h160v-160H180v160Zm440 0h160v-160H620v160ZM180-180h160v-160H180v160Zm440 0h160v-160H620v160Z\"/>\n",
              "  </svg>\n",
              "    </button>\n",
              "\n",
              "  <style>\n",
              "    .colab-df-container {\n",
              "      display:flex;\n",
              "      gap: 12px;\n",
              "    }\n",
              "\n",
              "    .colab-df-convert {\n",
              "      background-color: #E8F0FE;\n",
              "      border: none;\n",
              "      border-radius: 50%;\n",
              "      cursor: pointer;\n",
              "      display: none;\n",
              "      fill: #1967D2;\n",
              "      height: 32px;\n",
              "      padding: 0 0 0 0;\n",
              "      width: 32px;\n",
              "    }\n",
              "\n",
              "    .colab-df-convert:hover {\n",
              "      background-color: #E2EBFA;\n",
              "      box-shadow: 0px 1px 2px rgba(60, 64, 67, 0.3), 0px 1px 3px 1px rgba(60, 64, 67, 0.15);\n",
              "      fill: #174EA6;\n",
              "    }\n",
              "\n",
              "    .colab-df-buttons div {\n",
              "      margin-bottom: 4px;\n",
              "    }\n",
              "\n",
              "    [theme=dark] .colab-df-convert {\n",
              "      background-color: #3B4455;\n",
              "      fill: #D2E3FC;\n",
              "    }\n",
              "\n",
              "    [theme=dark] .colab-df-convert:hover {\n",
              "      background-color: #434B5C;\n",
              "      box-shadow: 0px 1px 3px 1px rgba(0, 0, 0, 0.15);\n",
              "      filter: drop-shadow(0px 1px 2px rgba(0, 0, 0, 0.3));\n",
              "      fill: #FFFFFF;\n",
              "    }\n",
              "  </style>\n",
              "\n",
              "    <script>\n",
              "      const buttonEl =\n",
              "        document.querySelector('#df-6eba8198-6e5c-458a-ac79-0f06db6e14f9 button.colab-df-convert');\n",
              "      buttonEl.style.display =\n",
              "        google.colab.kernel.accessAllowed ? 'block' : 'none';\n",
              "\n",
              "      async function convertToInteractive(key) {\n",
              "        const element = document.querySelector('#df-6eba8198-6e5c-458a-ac79-0f06db6e14f9');\n",
              "        const dataTable =\n",
              "          await google.colab.kernel.invokeFunction('convertToInteractive',\n",
              "                                                    [key], {});\n",
              "        if (!dataTable) return;\n",
              "\n",
              "        const docLinkHtml = 'Like what you see? Visit the ' +\n",
              "          '<a target=\"_blank\" href=https://colab.research.google.com/notebooks/data_table.ipynb>data table notebook</a>'\n",
              "          + ' to learn more about interactive tables.';\n",
              "        element.innerHTML = '';\n",
              "        dataTable['output_type'] = 'display_data';\n",
              "        await google.colab.output.renderOutput(dataTable, element);\n",
              "        const docLink = document.createElement('div');\n",
              "        docLink.innerHTML = docLinkHtml;\n",
              "        element.appendChild(docLink);\n",
              "      }\n",
              "    </script>\n",
              "  </div>\n",
              "\n",
              "\n",
              "<div id=\"df-3a724759-3e45-4a0c-bc2d-3e6011f77f26\">\n",
              "  <button class=\"colab-df-quickchart\" onclick=\"quickchart('df-3a724759-3e45-4a0c-bc2d-3e6011f77f26')\"\n",
              "            title=\"Suggest charts.\"\n",
              "            style=\"display:none;\">\n",
              "\n",
              "<svg xmlns=\"http://www.w3.org/2000/svg\" height=\"24px\"viewBox=\"0 0 24 24\"\n",
              "     width=\"24px\">\n",
              "    <g>\n",
              "        <path d=\"M19 3H5c-1.1 0-2 .9-2 2v14c0 1.1.9 2 2 2h14c1.1 0 2-.9 2-2V5c0-1.1-.9-2-2-2zM9 17H7v-7h2v7zm4 0h-2V7h2v10zm4 0h-2v-4h2v4z\"/>\n",
              "    </g>\n",
              "</svg>\n",
              "  </button>\n",
              "\n",
              "<style>\n",
              "  .colab-df-quickchart {\n",
              "      --bg-color: #E8F0FE;\n",
              "      --fill-color: #1967D2;\n",
              "      --hover-bg-color: #E2EBFA;\n",
              "      --hover-fill-color: #174EA6;\n",
              "      --disabled-fill-color: #AAA;\n",
              "      --disabled-bg-color: #DDD;\n",
              "  }\n",
              "\n",
              "  [theme=dark] .colab-df-quickchart {\n",
              "      --bg-color: #3B4455;\n",
              "      --fill-color: #D2E3FC;\n",
              "      --hover-bg-color: #434B5C;\n",
              "      --hover-fill-color: #FFFFFF;\n",
              "      --disabled-bg-color: #3B4455;\n",
              "      --disabled-fill-color: #666;\n",
              "  }\n",
              "\n",
              "  .colab-df-quickchart {\n",
              "    background-color: var(--bg-color);\n",
              "    border: none;\n",
              "    border-radius: 50%;\n",
              "    cursor: pointer;\n",
              "    display: none;\n",
              "    fill: var(--fill-color);\n",
              "    height: 32px;\n",
              "    padding: 0;\n",
              "    width: 32px;\n",
              "  }\n",
              "\n",
              "  .colab-df-quickchart:hover {\n",
              "    background-color: var(--hover-bg-color);\n",
              "    box-shadow: 0 1px 2px rgba(60, 64, 67, 0.3), 0 1px 3px 1px rgba(60, 64, 67, 0.15);\n",
              "    fill: var(--button-hover-fill-color);\n",
              "  }\n",
              "\n",
              "  .colab-df-quickchart-complete:disabled,\n",
              "  .colab-df-quickchart-complete:disabled:hover {\n",
              "    background-color: var(--disabled-bg-color);\n",
              "    fill: var(--disabled-fill-color);\n",
              "    box-shadow: none;\n",
              "  }\n",
              "\n",
              "  .colab-df-spinner {\n",
              "    border: 2px solid var(--fill-color);\n",
              "    border-color: transparent;\n",
              "    border-bottom-color: var(--fill-color);\n",
              "    animation:\n",
              "      spin 1s steps(1) infinite;\n",
              "  }\n",
              "\n",
              "  @keyframes spin {\n",
              "    0% {\n",
              "      border-color: transparent;\n",
              "      border-bottom-color: var(--fill-color);\n",
              "      border-left-color: var(--fill-color);\n",
              "    }\n",
              "    20% {\n",
              "      border-color: transparent;\n",
              "      border-left-color: var(--fill-color);\n",
              "      border-top-color: var(--fill-color);\n",
              "    }\n",
              "    30% {\n",
              "      border-color: transparent;\n",
              "      border-left-color: var(--fill-color);\n",
              "      border-top-color: var(--fill-color);\n",
              "      border-right-color: var(--fill-color);\n",
              "    }\n",
              "    40% {\n",
              "      border-color: transparent;\n",
              "      border-right-color: var(--fill-color);\n",
              "      border-top-color: var(--fill-color);\n",
              "    }\n",
              "    60% {\n",
              "      border-color: transparent;\n",
              "      border-right-color: var(--fill-color);\n",
              "    }\n",
              "    80% {\n",
              "      border-color: transparent;\n",
              "      border-right-color: var(--fill-color);\n",
              "      border-bottom-color: var(--fill-color);\n",
              "    }\n",
              "    90% {\n",
              "      border-color: transparent;\n",
              "      border-bottom-color: var(--fill-color);\n",
              "    }\n",
              "  }\n",
              "</style>\n",
              "\n",
              "  <script>\n",
              "    async function quickchart(key) {\n",
              "      const quickchartButtonEl =\n",
              "        document.querySelector('#' + key + ' button');\n",
              "      quickchartButtonEl.disabled = true;  // To prevent multiple clicks.\n",
              "      quickchartButtonEl.classList.add('colab-df-spinner');\n",
              "      try {\n",
              "        const charts = await google.colab.kernel.invokeFunction(\n",
              "            'suggestCharts', [key], {});\n",
              "      } catch (error) {\n",
              "        console.error('Error during call to suggestCharts:', error);\n",
              "      }\n",
              "      quickchartButtonEl.classList.remove('colab-df-spinner');\n",
              "      quickchartButtonEl.classList.add('colab-df-quickchart-complete');\n",
              "    }\n",
              "    (() => {\n",
              "      let quickchartButtonEl =\n",
              "        document.querySelector('#df-3a724759-3e45-4a0c-bc2d-3e6011f77f26 button');\n",
              "      quickchartButtonEl.style.display =\n",
              "        google.colab.kernel.accessAllowed ? 'block' : 'none';\n",
              "    })();\n",
              "  </script>\n",
              "</div>\n",
              "    </div>\n",
              "  </div>\n"
            ]
          },
          "metadata": {},
          "execution_count": 2
        }
      ],
      "source": [
        "yelp_df = pd.read_csv(\"cleaned_data.csv\")\n",
        "\n",
        "yelp_df.head()"
      ]
    },
    {
      "cell_type": "code",
      "execution_count": 3,
      "metadata": {
        "id": "GmtyTeyPlF5i"
      },
      "outputs": [],
      "source": [
        "# Create new columns and check if 'delivery', 'pickup', or 'restaurant_reservation' is in 'transactions'\n",
        "yelp_df['delivery'] = yelp_df['transactions'].str.contains('delivery', case=False, na=False)\n",
        "yelp_df['pickup'] = yelp_df['transactions'].str.contains('pickup', case=False, na=False)\n",
        "yelp_df['restaurant_reservation'] = yelp_df['transactions'].str.contains('restaurant_reservation', case=False, na=False)\n",
        "\n",
        "# Fill NaN values with False in the new columns\n",
        "yelp_df['delivery'] = yelp_df['delivery'].fillna(False)\n",
        "yelp_df['pickup'] = yelp_df['pickup'].fillna(False)\n",
        "yelp_df['restaurant_reservation'] = yelp_df['restaurant_reservation'].fillna(False)"
      ]
    },
    {
      "cell_type": "code",
      "execution_count": 4,
      "metadata": {
        "id": "EKKrKTC5lF5j"
      },
      "outputs": [],
      "source": [
        "yelp_df.drop(columns='transactions', inplace= True)\n",
        "\n",
        "yelp_df.dropna(inplace=True)"
      ]
    },
    {
      "cell_type": "code",
      "execution_count": 5,
      "metadata": {
        "id": "C2NdQOV8lF5j"
      },
      "outputs": [],
      "source": [
        "# Define a function to determine 'success'\n",
        "def is_success(rating):\n",
        "    return rating > 3.7\n",
        "\n",
        "# Create a new 'success' column based on the 'rating' column\n",
        "yelp_df['success'] = yelp_df['rating'].apply(is_success)"
      ]
    },
    {
      "cell_type": "code",
      "execution_count": 6,
      "metadata": {
        "id": "K5acwGAjlF5j",
        "colab": {
          "base_uri": "https://localhost:8080/",
          "height": 410
        },
        "outputId": "85b726ad-2c07-4db2-c149-edcb509d6cf7"
      },
      "outputs": [
        {
          "output_type": "display_data",
          "data": {
            "text/plain": [
              "<Figure size 600x400 with 1 Axes>"
            ],
            "image/png": "[encoded data removed]"
          },
          "metadata": {}
        }
      ],
      "source": [
        "# Count the values in the 'success' column\n",
        "success_counts = yelp_df['success'].value_counts()\n",
        "\n",
        "# Create a bar chart\n",
        "plt.figure(figsize=(6, 4))\n",
        "success_counts.plot(kind='bar', color=['green', 'red'], alpha=0.7)\n",
        "plt.title('Count of Success (True/False)')\n",
        "plt.xlabel('Success')\n",
        "plt.ylabel('Count')\n",
        "\n",
        "# Annotate the bars with counts\n",
        "for index, value in enumerate(success_counts):\n",
        "    plt.text(index, value, str(value), ha='center', va='bottom')\n",
        "\n",
        "plt.xticks(rotation=0)\n",
        "plt.show()"
      ]
    },
    {
      "cell_type": "code",
      "execution_count": 7,
      "metadata": {
        "id": "SWnWIerWlF5j"
      },
      "outputs": [],
      "source": [
        "# Set features\n",
        "y = yelp_df['success']\n",
        "X = yelp_df.drop(columns=['success','rating'])\n"
      ]
    },
    {
      "cell_type": "code",
      "execution_count": 8,
      "metadata": {
        "id": "kqfnbmPGlF5j",
        "colab": {
          "base_uri": "https://localhost:8080/",
          "height": 899
        },
        "outputId": "3238f9a6-f83a-4b7a-9926-be88dc8320ed"
      },
      "outputs": [
        {
          "output_type": "stream",
          "name": "stderr",
          "text": [
            "<ipython-input-8-8b1c33342ed7>:2: FutureWarning: The default value of numeric_only in DataFrame.corr is deprecated. In a future version, it will default to False. Select only valid columns or specify the value of numeric_only to silence this warning.\n",
            "  correlation_matrix = X.corr()\n"
          ]
        },
        {
          "output_type": "display_data",
          "data": {
            "text/plain": [
              "<Figure size 1000x800 with 2 Axes>"
            ],
            "image/png": "[encoded data removed]"
          },
          "metadata": {}
        }
      ],
      "source": [
        "# Generate a correlation matrix for your features (X)\n",
        "correlation_matrix = X.corr()\n",
        "\n",
        "# Create a heatmap with correlation values\n",
        "plt.figure(figsize=(10, 8))\n",
        "sns.heatmap(correlation_matrix, annot=True, cmap='RdBu_r', fmt=\".2f\")\n",
        "plt.title('Correlation Heatmap')\n",
        "plt.show()"
      ]
    },
    {
      "cell_type": "code",
      "execution_count": 9,
      "metadata": {
        "id": "4oNEZ2zblF5j"
      },
      "outputs": [],
      "source": [
        "X.drop(columns=['id','name','image_url','url','state','city'], inplace=True)\n",
        "\n"
      ]
    },
    {
      "cell_type": "code",
      "execution_count": 10,
      "metadata": {
        "id": "3CbYVKZplF5j",
        "colab": {
          "base_uri": "https://localhost:8080/"
        },
        "outputId": "bb44cb66-33e8-42de-8452-caf36e5c42f2"
      },
      "outputs": [
        {
          "output_type": "stream",
          "name": "stdout",
          "text": [
            "<class 'pandas.core.frame.DataFrame'>\n",
            "Int64Index: 19025 entries, 0 to 19142\n",
            "Data columns (total 9 columns):\n",
            " #   Column                  Non-Null Count  Dtype  \n",
            "---  ------                  --------------  -----  \n",
            " 0   is_closed               19025 non-null  bool   \n",
            " 1   review_count            19025 non-null  int64  \n",
            " 2   price                   19025 non-null  int64  \n",
            " 3   cuisines                19025 non-null  object \n",
            " 4   latitude                19025 non-null  float64\n",
            " 5   longitude               19025 non-null  float64\n",
            " 6   delivery                19025 non-null  bool   \n",
            " 7   pickup                  19025 non-null  bool   \n",
            " 8   restaurant_reservation  19025 non-null  bool   \n",
            "dtypes: bool(4), float64(2), int64(2), object(1)\n",
            "memory usage: 966.1+ KB\n"
          ]
        }
      ],
      "source": [
        "X.info()"
      ]
    },
    {
      "cell_type": "code",
      "execution_count": 11,
      "metadata": {
        "id": "megj04CSlF5k",
        "colab": {
          "base_uri": "https://localhost:8080/"
        },
        "outputId": "4c95fd38-70c0-40e0-9142-cff92883e7aa"
      },
      "outputs": [
        {
          "output_type": "stream",
          "name": "stderr",
          "text": [
            "<ipython-input-11-a45297fa1c78>:5: DeprecationWarning: In a future version, `df.iloc[:, i] = newvals` will attempt to set the values inplace instead of always setting a new array. To retain the old behavior, use either `df[df.columns[i]] = newvals` or, if columns are non-unique, `df.isetitem(i, newvals)`\n",
            "  X.loc[:,'cuisines'] = le.fit_transform(X.loc[:,'cuisines'])\n",
            "<ipython-input-11-a45297fa1c78>:9: DeprecationWarning: In a future version, `df.iloc[:, i] = newvals` will attempt to set the values inplace instead of always setting a new array. To retain the old behavior, use either `df[df.columns[i]] = newvals` or, if columns are non-unique, `df.isetitem(i, newvals)`\n",
            "  X.loc[:,['latitude', 'longitude']] = X.loc[:,['latitude', 'longitude']].astype(int)\n"
          ]
        }
      ],
      "source": [
        "# Create label encoder object\n",
        "le = LabelEncoder()\n",
        "\n",
        "# Encode categorical variables\n",
        "X.loc[:,'cuisines'] = le.fit_transform(X.loc[:,'cuisines'])\n",
        "\n",
        "\n",
        "# convert float columns to integer\n",
        "X.loc[:,['latitude', 'longitude']] = X.loc[:,['latitude', 'longitude']].astype(int)\n",
        "\n",
        "X = X.astype(int)"
      ]
    },
    {
      "cell_type": "code",
      "execution_count": 12,
      "metadata": {
        "id": "bWRKgEg9lF5k"
      },
      "outputs": [],
      "source": [
        "# Split the preprocessed data into a training and testing dataset\n",
        "X_train, X_test, y_train, y_test = train_test_split(X, y, test_size=0.75, stratify=y)\n"
      ]
    },
    {
      "cell_type": "code",
      "execution_count": 13,
      "metadata": {
        "id": "TQtFjsn2lF5k"
      },
      "outputs": [],
      "source": [
        "# Create a StandardScaler instances\n",
        "scaler = StandardScaler()\n",
        "\n",
        "# Fit the StandardScaler\n",
        "X_scaler = scaler.fit(X_train)\n",
        "\n",
        "# Scale the data\n",
        "X_train_scaled = X_scaler.transform(X_train)\n",
        "X_test_scaled = X_scaler.transform(X_test)"
      ]
    },
    {
      "cell_type": "code",
      "execution_count": 14,
      "metadata": {
        "id": "MZ0DExxklF5k",
        "colab": {
          "base_uri": "https://localhost:8080/"
        },
        "outputId": "6344f7d2-0c2b-4834-ea5c-7690899a2486"
      },
      "outputs": [
        {
          "output_type": "stream",
          "name": "stdout",
          "text": [
            "Model: \"sequential\"\n",
            "_________________________________________________________________\n",
            " Layer (type)                Output Shape              Param #   \n",
            "=================================================================\n",
            " dense (Dense)               (None, 9)                 90        \n",
            "                                                                 \n",
            " dense_1 (Dense)             (None, 10)                100       \n",
            "                                                                 \n",
            " dense_2 (Dense)             (None, 5)                 55        \n",
            "                                                                 \n",
            " dense_3 (Dense)             (None, 1)                 6         \n",
            "                                                                 \n",
            "=================================================================\n",
            "Total params: 251 (1004.00 Byte)\n",
            "Trainable params: 251 (1004.00 Byte)\n",
            "Non-trainable params: 0 (0.00 Byte)\n",
            "_________________________________________________________________\n"
          ]
        }
      ],
      "source": [
        "# Define the model - deep neural net, i.e., the number of input features and hidden nodes for each layer.\n",
        "number_input_features = len( X_train_scaled[0])\n",
        "hidden_nodes_layer1=9\n",
        "hidden_nodes_layer2=10\n",
        "hidden_nodes_layer3=5\n",
        "\n",
        "\n",
        "nn = tf.keras.models.Sequential()\n",
        "\n",
        "# First hidden layer\n",
        "nn.add(tf.keras.layers.Dense(units=hidden_nodes_layer1, input_dim=number_input_features, activation='tanh'))\n",
        "\n",
        "\n",
        "# Second hidden layer\n",
        "nn.add(tf.keras.layers.Dense(units=hidden_nodes_layer2, activation='tanh'))\n",
        "\n",
        "# Third hidden layer\n",
        "nn.add(tf.keras.layers.Dense(units=hidden_nodes_layer3, activation='tanh'))\n",
        "\n",
        "\n",
        "# Output layer\n",
        "nn.add(tf.keras.layers.Dense(units=1, activation='sigmoid'))\n",
        "\n",
        "\n",
        "# Check the structure of the model\n",
        "nn.summary()"
      ]
    },
    {
      "cell_type": "code",
      "source": [
        "len(X_train)"
      ],
      "metadata": {
        "colab": {
          "base_uri": "https://localhost:8080/"
        },
        "id": "7r8bcrVmxfHK",
        "outputId": "c859f656-e4a0-42ec-cb45-8b9fa0febaad"
      },
      "execution_count": 15,
      "outputs": [
        {
          "output_type": "execute_result",
          "data": {
            "text/plain": [
              "4756"
            ]
          },
          "metadata": {},
          "execution_count": 15
        }
      ]
    },
    {
      "cell_type": "code",
      "execution_count": 16,
      "metadata": {
        "id": "YqAoth6rlF5k"
      },
      "outputs": [],
      "source": [
        "# Compile the model\n",
        "opt = keras.optimizers.Adam(learning_rate=0.01)\n",
        "nn.compile(loss = 'binary_crossentropy', optimizer = opt, metrics=['accuracy'])"
      ]
    },
    {
      "cell_type": "code",
      "execution_count": 17,
      "metadata": {
        "id": "aUps7HDElF5k",
        "colab": {
          "base_uri": "https://localhost:8080/"
        },
        "outputId": "38db9fd2-747a-4594-bdbf-b7837061ac3b"
      },
      "outputs": [
        {
          "output_type": "stream",
          "name": "stdout",
          "text": [
            "Epoch 1/50\n",
            "81/81 [==============================] - 3s 14ms/step - loss: 0.6627 - accuracy: 0.5950 - val_loss: 0.6673 - val_accuracy: 0.5952\n",
            "Epoch 2/50\n",
            "81/81 [==============================] - 1s 11ms/step - loss: 0.6482 - accuracy: 0.6244 - val_loss: 0.6672 - val_accuracy: 0.5966\n",
            "Epoch 3/50\n",
            "81/81 [==============================] - 1s 11ms/step - loss: 0.6440 - accuracy: 0.6319 - val_loss: 0.6610 - val_accuracy: 0.6106\n",
            "Epoch 4/50\n",
            "81/81 [==============================] - 1s 11ms/step - loss: 0.6420 - accuracy: 0.6319 - val_loss: 0.6624 - val_accuracy: 0.6162\n",
            "Epoch 5/50\n",
            "81/81 [==============================] - 1s 13ms/step - loss: 0.6408 - accuracy: 0.6338 - val_loss: 0.6602 - val_accuracy: 0.6176\n",
            "Epoch 6/50\n",
            "81/81 [==============================] - 1s 9ms/step - loss: 0.6390 - accuracy: 0.6333 - val_loss: 0.6576 - val_accuracy: 0.6106\n",
            "Epoch 7/50\n",
            "81/81 [==============================] - 1s 9ms/step - loss: 0.6368 - accuracy: 0.6368 - val_loss: 0.6642 - val_accuracy: 0.6008\n",
            "Epoch 8/50\n",
            "81/81 [==============================] - 1s 9ms/step - loss: 0.6374 - accuracy: 0.6400 - val_loss: 0.6607 - val_accuracy: 0.6162\n",
            "Epoch 9/50\n",
            "81/81 [==============================] - 1s 9ms/step - loss: 0.6337 - accuracy: 0.6385 - val_loss: 0.6632 - val_accuracy: 0.5994\n",
            "Epoch 10/50\n",
            "81/81 [==============================] - 1s 8ms/step - loss: 0.6347 - accuracy: 0.6368 - val_loss: 0.6560 - val_accuracy: 0.6134\n",
            "Epoch 11/50\n",
            "81/81 [==============================] - 0s 6ms/step - loss: 0.6311 - accuracy: 0.6403 - val_loss: 0.6638 - val_accuracy: 0.6148\n",
            "Epoch 12/50\n",
            "81/81 [==============================] - 1s 7ms/step - loss: 0.6299 - accuracy: 0.6378 - val_loss: 0.6627 - val_accuracy: 0.6232\n",
            "Epoch 13/50\n",
            "81/81 [==============================] - 0s 6ms/step - loss: 0.6302 - accuracy: 0.6346 - val_loss: 0.6564 - val_accuracy: 0.6134\n",
            "Epoch 14/50\n",
            "81/81 [==============================] - 1s 9ms/step - loss: 0.6286 - accuracy: 0.6435 - val_loss: 0.6590 - val_accuracy: 0.6134\n",
            "Epoch 15/50\n",
            "81/81 [==============================] - 1s 11ms/step - loss: 0.6273 - accuracy: 0.6465 - val_loss: 0.6625 - val_accuracy: 0.5994\n",
            "Epoch 16/50\n",
            "81/81 [==============================] - 1s 9ms/step - loss: 0.6265 - accuracy: 0.6371 - val_loss: 0.6582 - val_accuracy: 0.6148\n",
            "Epoch 17/50\n",
            "81/81 [==============================] - 1s 7ms/step - loss: 0.6258 - accuracy: 0.6455 - val_loss: 0.6566 - val_accuracy: 0.6190\n",
            "Epoch 18/50\n",
            "81/81 [==============================] - 1s 9ms/step - loss: 0.6260 - accuracy: 0.6447 - val_loss: 0.6596 - val_accuracy: 0.6078\n",
            "Epoch 19/50\n",
            "81/81 [==============================] - 1s 11ms/step - loss: 0.6258 - accuracy: 0.6400 - val_loss: 0.6542 - val_accuracy: 0.6190\n",
            "Epoch 20/50\n",
            "81/81 [==============================] - 1s 9ms/step - loss: 0.6235 - accuracy: 0.6502 - val_loss: 0.6641 - val_accuracy: 0.5952\n",
            "Epoch 21/50\n",
            "81/81 [==============================] - 1s 11ms/step - loss: 0.6223 - accuracy: 0.6447 - val_loss: 0.6593 - val_accuracy: 0.6148\n",
            "Epoch 22/50\n",
            "81/81 [==============================] - 1s 10ms/step - loss: 0.6220 - accuracy: 0.6489 - val_loss: 0.6645 - val_accuracy: 0.6162\n",
            "Epoch 23/50\n",
            "81/81 [==============================] - 1s 12ms/step - loss: 0.6214 - accuracy: 0.6526 - val_loss: 0.6570 - val_accuracy: 0.6148\n",
            "Epoch 24/50\n",
            "81/81 [==============================] - 1s 8ms/step - loss: 0.6198 - accuracy: 0.6497 - val_loss: 0.6648 - val_accuracy: 0.6148\n",
            "Epoch 25/50\n",
            "81/81 [==============================] - 0s 6ms/step - loss: 0.6226 - accuracy: 0.6440 - val_loss: 0.6605 - val_accuracy: 0.6148\n",
            "Epoch 26/50\n",
            "81/81 [==============================] - 1s 7ms/step - loss: 0.6212 - accuracy: 0.6470 - val_loss: 0.6546 - val_accuracy: 0.6176\n",
            "Epoch 27/50\n",
            "81/81 [==============================] - 1s 7ms/step - loss: 0.6210 - accuracy: 0.6472 - val_loss: 0.6614 - val_accuracy: 0.6176\n",
            "Epoch 28/50\n",
            "81/81 [==============================] - 0s 6ms/step - loss: 0.6197 - accuracy: 0.6455 - val_loss: 0.6605 - val_accuracy: 0.6162\n",
            "Epoch 29/50\n",
            "81/81 [==============================] - 1s 6ms/step - loss: 0.6192 - accuracy: 0.6509 - val_loss: 0.6592 - val_accuracy: 0.6078\n",
            "Epoch 30/50\n",
            "81/81 [==============================] - 1s 7ms/step - loss: 0.6200 - accuracy: 0.6499 - val_loss: 0.6583 - val_accuracy: 0.6176\n",
            "Epoch 31/50\n",
            "81/81 [==============================] - 1s 7ms/step - loss: 0.6156 - accuracy: 0.6559 - val_loss: 0.6566 - val_accuracy: 0.6106\n",
            "Epoch 32/50\n",
            "81/81 [==============================] - 1s 6ms/step - loss: 0.6198 - accuracy: 0.6472 - val_loss: 0.6637 - val_accuracy: 0.6064\n",
            "Epoch 33/50\n",
            "81/81 [==============================] - 1s 7ms/step - loss: 0.6175 - accuracy: 0.6457 - val_loss: 0.6572 - val_accuracy: 0.6162\n",
            "Epoch 34/50\n",
            "81/81 [==============================] - 1s 7ms/step - loss: 0.6184 - accuracy: 0.6499 - val_loss: 0.6563 - val_accuracy: 0.6134\n",
            "Epoch 35/50\n",
            "81/81 [==============================] - 1s 7ms/step - loss: 0.6168 - accuracy: 0.6536 - val_loss: 0.6631 - val_accuracy: 0.6120\n",
            "Epoch 36/50\n",
            "81/81 [==============================] - 0s 3ms/step - loss: 0.6171 - accuracy: 0.6499 - val_loss: 0.6555 - val_accuracy: 0.6162\n",
            "Epoch 37/50\n",
            "81/81 [==============================] - 0s 3ms/step - loss: 0.6165 - accuracy: 0.6534 - val_loss: 0.6565 - val_accuracy: 0.6246\n",
            "Epoch 38/50\n",
            "81/81 [==============================] - 0s 3ms/step - loss: 0.6165 - accuracy: 0.6522 - val_loss: 0.6569 - val_accuracy: 0.6162\n",
            "Epoch 39/50\n",
            "81/81 [==============================] - 0s 3ms/step - loss: 0.6165 - accuracy: 0.6539 - val_loss: 0.6592 - val_accuracy: 0.6134\n",
            "Epoch 40/50\n",
            "81/81 [==============================] - 0s 3ms/step - loss: 0.6177 - accuracy: 0.6509 - val_loss: 0.6542 - val_accuracy: 0.6218\n",
            "Epoch 41/50\n",
            "81/81 [==============================] - 0s 3ms/step - loss: 0.6150 - accuracy: 0.6571 - val_loss: 0.6589 - val_accuracy: 0.6106\n",
            "Epoch 42/50\n",
            "81/81 [==============================] - 0s 3ms/step - loss: 0.6165 - accuracy: 0.6559 - val_loss: 0.6538 - val_accuracy: 0.6232\n",
            "Epoch 43/50\n",
            "81/81 [==============================] - 0s 3ms/step - loss: 0.6153 - accuracy: 0.6531 - val_loss: 0.6585 - val_accuracy: 0.6204\n",
            "Epoch 44/50\n",
            "81/81 [==============================] - 0s 3ms/step - loss: 0.6171 - accuracy: 0.6509 - val_loss: 0.6534 - val_accuracy: 0.6232\n",
            "Epoch 45/50\n",
            "81/81 [==============================] - 0s 3ms/step - loss: 0.6145 - accuracy: 0.6494 - val_loss: 0.6557 - val_accuracy: 0.6106\n",
            "Epoch 46/50\n",
            "81/81 [==============================] - 0s 3ms/step - loss: 0.6119 - accuracy: 0.6549 - val_loss: 0.6532 - val_accuracy: 0.6218\n",
            "Epoch 47/50\n",
            "81/81 [==============================] - 0s 3ms/step - loss: 0.6129 - accuracy: 0.6526 - val_loss: 0.6582 - val_accuracy: 0.6204\n",
            "Epoch 48/50\n",
            "81/81 [==============================] - 0s 4ms/step - loss: 0.6146 - accuracy: 0.6504 - val_loss: 0.6570 - val_accuracy: 0.6134\n",
            "Epoch 49/50\n",
            "81/81 [==============================] - 0s 3ms/step - loss: 0.6114 - accuracy: 0.6509 - val_loss: 0.6554 - val_accuracy: 0.6106\n",
            "Epoch 50/50\n",
            "81/81 [==============================] - 0s 3ms/step - loss: 0.6129 - accuracy: 0.6497 - val_loss: 0.6532 - val_accuracy: 0.6232\n"
          ]
        }
      ],
      "source": [
        "# Train the model\n",
        "fit_model = nn.fit(X_train_scaled,y_train,validation_split=0.15, epochs=50, batch_size = 50)"
      ]
    },
    {
      "cell_type": "code",
      "execution_count": 18,
      "metadata": {
        "id": "SRnaTptDlF5k",
        "colab": {
          "base_uri": "https://localhost:8080/"
        },
        "outputId": "9a4cf783-07bd-4f2d-f337-2a3a97caae34"
      },
      "outputs": [
        {
          "output_type": "stream",
          "name": "stdout",
          "text": [
            "446/446 - 1s - loss: 0.6473 - accuracy: 0.6215 - 895ms/epoch - 2ms/step\n",
            "Loss: 0.6472572684288025, Accuracy: 0.6214871406555176\n"
          ]
        }
      ],
      "source": [
        "# Evaluate the model using the test data\n",
        "model_loss, model_accuracy = nn.evaluate(X_test_scaled,y_test,verbose=2)\n",
        "print(f\"Loss: {model_loss}, Accuracy: {model_accuracy}\")\n"
      ]
    },
    {
      "cell_type": "code",
      "source": [
        "import tensorflow as tf\n",
        "import pandas as pd\n",
        "from sklearn.compose import ColumnTransformer\n",
        "from sklearn.preprocessing import OneHotEncoder\n",
        "from keras.wrappers.scikit_learn import KerasClassifier\n",
        "from sklearn.model_selection import GridSearchCV\n",
        "from sklearn.preprocessing import LabelEncoder\n",
        "from sklearn.preprocessing import StandardScaler"
      ],
      "metadata": {
        "colab": {
          "base_uri": "https://localhost:8080/",
          "height": 393
        },
        "id": "ntfUz1o71Jac",
        "outputId": "af6ff11e-2d8e-4e72-83c6-a74500d983d1"
      },
      "execution_count": 20,
      "outputs": [
        {
          "output_type": "error",
          "ename": "ModuleNotFoundError",
          "evalue": "ignored",
          "traceback": [
            "\u001b[0;31m---------------------------------------------------------------------------\u001b[0m",
            "\u001b[0;31mModuleNotFoundError\u001b[0m                       Traceback (most recent call last)",
            "\u001b[0;32m<ipython-input-20-ce159fe899d3>\u001b[0m in \u001b[0;36m<cell line: 5>\u001b[0;34m()\u001b[0m\n\u001b[1;32m      3\u001b[0m \u001b[0;32mfrom\u001b[0m \u001b[0msklearn\u001b[0m\u001b[0;34m.\u001b[0m\u001b[0mcompose\u001b[0m \u001b[0;32mimport\u001b[0m \u001b[0mColumnTransformer\u001b[0m\u001b[0;34m\u001b[0m\u001b[0;34m\u001b[0m\u001b[0m\n\u001b[1;32m      4\u001b[0m \u001b[0;32mfrom\u001b[0m \u001b[0msklearn\u001b[0m\u001b[0;34m.\u001b[0m\u001b[0mpreprocessing\u001b[0m \u001b[0;32mimport\u001b[0m \u001b[0mOneHotEncoder\u001b[0m\u001b[0;34m\u001b[0m\u001b[0;34m\u001b[0m\u001b[0m\n\u001b[0;32m----> 5\u001b[0;31m \u001b[0;32mfrom\u001b[0m \u001b[0mscikeras\u001b[0m\u001b[0;34m.\u001b[0m\u001b[0mwrappers\u001b[0m \u001b[0;32mimport\u001b[0m \u001b[0mKerasClassifier\u001b[0m\u001b[0;34m\u001b[0m\u001b[0;34m\u001b[0m\u001b[0m\n\u001b[0m\u001b[1;32m      6\u001b[0m \u001b[0;32mfrom\u001b[0m \u001b[0msklearn\u001b[0m\u001b[0;34m.\u001b[0m\u001b[0mmodel_selection\u001b[0m \u001b[0;32mimport\u001b[0m \u001b[0mGridSearchCV\u001b[0m\u001b[0;34m\u001b[0m\u001b[0;34m\u001b[0m\u001b[0m\n\u001b[1;32m      7\u001b[0m \u001b[0;32mfrom\u001b[0m \u001b[0msklearn\u001b[0m\u001b[0;34m.\u001b[0m\u001b[0mpreprocessing\u001b[0m \u001b[0;32mimport\u001b[0m \u001b[0mLabelEncoder\u001b[0m\u001b[0;34m\u001b[0m\u001b[0;34m\u001b[0m\u001b[0m\n",
            "\u001b[0;31mModuleNotFoundError\u001b[0m: No module named 'scikeras'",
            "",
            "\u001b[0;31m---------------------------------------------------------------------------\u001b[0;32m\nNOTE: If your import is failing due to a missing package, you can\nmanually install dependencies using either !pip or !apt.\n\nTo view examples of installing some common dependencies, click the\n\"Open Examples\" button below.\n\u001b[0;31m---------------------------------------------------------------------------\u001b[0m\n"
          ],
          "errorDetails": {
            "actions": [
              {
                "action": "open_url",
                "actionText": "Open Examples",
                "url": "/notebooks/snippets/importing_libraries.ipynb"
              }
            ]
          }
        }
      ]
    },
    {
      "cell_type": "code",
      "source": [],
      "metadata": {
        "id": "RIFHipSZ12Pv"
      },
      "execution_count": null,
      "outputs": []
    }
  ],
  "metadata": {
    "kernelspec": {
      "display_name": "Python 3",
      "language": "python",
      "name": "python3"
    },
    "language_info": {
      "codemirror_mode": {
        "name": "ipython",
        "version": 3
      },
      "file_extension": ".py",
      "mimetype": "text/x-python",
      "name": "python",
      "nbconvert_exporter": "python",
      "pygments_lexer": "ipython3",
      "version": "3.9.13"
    },
    "orig_nbformat": 4,
    "colab": {
      "provenance": []
    }
  },
  "nbformat": 4,
  "nbformat_minor": 0
}